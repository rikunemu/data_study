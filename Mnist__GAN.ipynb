{
  "nbformat": 4,
  "nbformat_minor": 0,
  "metadata": {
    "colab": {
      "name": "Mnist _GAN.ipynb",
      "provenance": [],
      "collapsed_sections": [],
      "authorship_tag": "ABX9TyPPdzxgtAPZY5clYRG8HAcs"
    },
    "kernelspec": {
      "name": "python3",
      "display_name": "Python 3"
    },
    "language_info": {
      "name": "python"
    }
  },
  "cells": [
    {
      "cell_type": "markdown",
      "metadata": {
        "id": "uV2TIrfO5RhZ"
      },
      "source": [
        "90分対策  \n",
        "F12を開いて以下のスクリプトをコンソールで実行  \n",
        "function KeepClicking(){\n",
        "console.log(\"Clicking\");\n",
        "document.querySelector(\"colab-connect-button\").click()\n",
        "}\n",
        "setInterval(KeepClicking,600000)\n",
        "\n",
        "  \n",
        "10分ごとに接続"
      ]
    },
    {
      "cell_type": "code",
      "metadata": {
        "id": "LeeKcAZz3pwY"
      },
      "source": [
        "# MNISTのロードと表示のための関数です。後で使うので読み込んでおいて下さい。\n",
        "from tensorflow.keras.datasets import mnist\n",
        "from tensorflow.keras.datasets import fashion_mnist\n",
        "import numpy as np\n",
        "import matplotlib.pyplot as plt\n",
        "%matplotlib inline\n",
        "\n",
        "def load_mnist(dim=3, data='mnist'):\n",
        "    img_rows, img_cols = 28, 28\n",
        "    \n",
        "    if data == 'mnist':\n",
        "        (x_train, y_train), (x_test, y_test) = mnist.load_data()\n",
        "    else:\n",
        "        (x_train, y_train), (x_test, y_test) = fashion_mnist.load_data()\n",
        "    \n",
        "    if dim == 3:\n",
        "        x_train = x_train.reshape(x_train.shape[0], img_rows, img_cols, 1)\n",
        "        x_test = x_test.reshape(x_test.shape[0], img_rows, img_cols, 1)\n",
        "    else:\n",
        "        x_train = x_train.reshape(x_train.shape[0], img_rows*img_cols)\n",
        "        x_test = x_test.reshape(x_test.shape[0], img_rows*img_cols)\n",
        "        \n",
        "    x_train = x_train.astype('float32') / 255\n",
        "    x_test = x_test.astype('float32') / 255\n",
        "    y_train = np.eye(10)[y_train]\n",
        "    y_test = np.eye(10)[y_test]\n",
        "    \n",
        "    return  x_train, x_test, y_train, y_test\n",
        "\n",
        "def plot_mnist(n_ex=10,dim=(2,5), figsize=(8,4)):\n",
        "    noise = np.random.uniform(0,1,size=[n_ex,100])\n",
        "    generated_images = generator.predict(noise)\n",
        "\n",
        "    plt.figure(figsize=figsize)\n",
        "    for i in range(generated_images.shape[0]):\n",
        "        plt.subplot(dim[0],dim[1],i+1)\n",
        "        img = generated_images[i,:,:, 0]\n",
        "        plt.imshow(img, cmap='binary')\n",
        "        plt.axis('off')\n",
        "    plt.tight_layout()\n",
        "    plt.show()"
      ],
      "execution_count": null,
      "outputs": []
    },
    {
      "cell_type": "code",
      "metadata": {
        "id": "_lWwe0mz340z"
      },
      "source": [
        "from tensorflow.keras.layers import Input, Reshape, Dense, Flatten, Activation, Conv2D, UpSampling2D, BatchNormalization\n",
        "from tensorflow.keras.models import Model\n",
        "\n",
        "def Generator():\n",
        "    nch = 200\n",
        "    model_input = Input(shape=[100])\n",
        "    x = Dense(nch*14*14, kernel_initializer='glorot_normal')(model_input) # 100 -> 200*14*14\n",
        "    x = BatchNormalization()(x)\n",
        "    x = Activation('relu')(x)\n",
        "    x = Reshape( [14, 14, nch] )(x) # 200*14*14 -> 14x14x200 (width)x(height)x(channel)\n",
        "    x = UpSampling2D(size=(2, 2))(x) # 14x14x200 -> 28x28x200\n",
        "    x = Conv2D(int(nch/2), (3, 3), padding='same', kernel_initializer='glorot_uniform')(x) # 28x28x200 -> 28x28x100\n",
        "    x = BatchNormalization()(x)\n",
        "    x = Activation('relu')(x)\n",
        "    x = Conv2D(int(nch/4), (3, 3), padding='same', kernel_initializer='glorot_uniform')(x) # 28x28x100 -> 28x28x50\n",
        "    x = BatchNormalization()(x)\n",
        "    x = Activation('relu')(x)\n",
        "    x = Conv2D(1, (1, 1), padding='same', kernel_initializer='glorot_uniform')(x) # 28x28x50 -> 28x28x1\n",
        "    model_output = Activation('sigmoid')(x)\n",
        "    model = Model(model_input, model_output)\n",
        "    # model.summary()\n",
        "    \n",
        "    return model"
      ],
      "execution_count": null,
      "outputs": []
    },
    {
      "cell_type": "code",
      "metadata": {
        "id": "zYj0BVn53_G2",
        "colab": {
          "base_uri": "https://localhost:8080/"
        },
        "outputId": "83c93355-d911-4e70-b91a-2afb028ed8ec"
      },
      "source": [
        "from tensorflow.keras.layers import Input, Reshape, Dense, Dropout, Flatten, LeakyReLU, Conv2D, BatchNormalization\n",
        "from tensorflow.keras.optimizers import Adam\n",
        "from tensorflow.keras.models import Model\n",
        "\n",
        "def Discriminator(shape, dropout_rate=0.25, opt=Adam(lr=1e-4)):\n",
        "    model_input = Input(shape=shape) # 28x28x1\n",
        "    x = Conv2D(256, (5, 5), padding = 'same', kernel_initializer='glorot_uniform', strides=(2, 2))(model_input) # 28x28x1 -> 14x14x256\n",
        "    x = LeakyReLU(0.2)(x)\n",
        "    x = Dropout(dropout_rate)(x)\n",
        "    x = Conv2D(512, (5, 5), padding = 'same', kernel_initializer='glorot_uniform', strides=(2, 2))(x) # 14x14x256 -> 7x7x512\n",
        "    x = LeakyReLU(0.2)(x)\n",
        "    x = Dropout(dropout_rate)(x)\n",
        "    x = Flatten()(x) # 7x7x512 -> 7*7*512\n",
        "    x = Dense(256)(x) # 7*7*512 -> 256\n",
        "    x = LeakyReLU(0.2)(x)\n",
        "    x = Dropout(dropout_rate)(x)\n",
        "    model_output = Dense(2,activation='softmax')(x) # 256 -> 2\n",
        "    model = Model(model_input, model_output)\n",
        "    model.compile(loss='categorical_crossentropy', optimizer=opt)\n",
        "    # model.summary()\n",
        "    \n",
        "    return model"
      ],
      "execution_count": null,
      "outputs": [
        {
          "output_type": "stream",
          "name": "stderr",
          "text": [
            "/usr/local/lib/python3.7/dist-packages/keras/optimizer_v2/optimizer_v2.py:356: UserWarning: The `lr` argument is deprecated, use `learning_rate` instead.\n",
            "  \"The `lr` argument is deprecated, use `learning_rate` instead.\")\n"
          ]
        }
      ]
    },
    {
      "cell_type": "code",
      "metadata": {
        "id": "VqGsUC6Y4BgN",
        "colab": {
          "base_uri": "https://localhost:8080/"
        },
        "outputId": "c00aae88-715d-4525-e91b-71eb474a146b"
      },
      "source": [
        "from tensorflow.keras.layers import Input\n",
        "from tensorflow.keras.models import Model\n",
        "\n",
        "def combined_network(generator, discriminator, opt=Adam(lr=1e-3)):\n",
        "    gan_input = Input(shape=[100])\n",
        "    x = generator(gan_input)\n",
        "    gan_output = discriminator(x)\n",
        "    model = Model(gan_input, gan_output)\n",
        "    model.compile(loss='categorical_crossentropy', optimizer=opt)\n",
        "    # model.summary()\n",
        "    \n",
        "    return model"
      ],
      "execution_count": null,
      "outputs": [
        {
          "output_type": "stream",
          "name": "stderr",
          "text": [
            "/usr/local/lib/python3.7/dist-packages/keras/optimizer_v2/optimizer_v2.py:356: UserWarning: The `lr` argument is deprecated, use `learning_rate` instead.\n",
            "  \"The `lr` argument is deprecated, use `learning_rate` instead.\")\n"
          ]
        }
      ]
    },
    {
      "cell_type": "code",
      "metadata": {
        "id": "G0td2xs84D_V"
      },
      "source": [
        "def make_trainable(net, val):\n",
        "    net.trainable = val\n",
        "    for l in net.layers:\n",
        "        l.trainable = val"
      ],
      "execution_count": null,
      "outputs": []
    },
    {
      "cell_type": "code",
      "metadata": {
        "id": "V8mI1yVp4F7Q"
      },
      "source": [
        "from tqdm import tqdm\n",
        "\n",
        "def train(step=3000, BATCH_SIZE=128):\n",
        "    for e in tqdm(range(step)):\n",
        "        # 1. バッチの学習で利用する画像の選択 \n",
        "        # バッチサイズの分だけランダムに画像を選択\n",
        "        image_batch = X_train[np.random.randint(0,X_train.shape[0],size=BATCH_SIZE),:,:,:]\n",
        "        \n",
        "        # バッチサイズの分だけランダムにノイズを生成し、generatorにより画像を生成\n",
        "        noise_gen = np.random.uniform(0,1,size=[BATCH_SIZE,100])\n",
        "        generated_images = generator.predict(noise_gen)\n",
        "        \n",
        "        # 2. Discriminatorの学習をonに切り替える\n",
        "        # Discriminatorが学習するように変更\n",
        "        make_trainable(discriminator,True)\n",
        "        \n",
        "        # 3. Generatorによる生成画像を用いてDiscriminatorの学習\n",
        "        # X = (バッチサイズ分のデータセットの画像, バッチサイズ分の生成画像)\n",
        "        X = np.concatenate((image_batch, generated_images))\n",
        "        \n",
        "        # y = (バッチサイズ分のTrue(本物), バッチサイズ分のFalse(偽物))\n",
        "        y = np.zeros([2*BATCH_SIZE,2])\n",
        "        y[:BATCH_SIZE,1] = 1\n",
        "        y[BATCH_SIZE:,0] = 1      \n",
        "        \n",
        "        # Discriminatorのtrain\n",
        "        discriminator.train_on_batch(X,y)\n",
        "        \n",
        "        # 4. Discriminatorの学習をoffに切り替える\n",
        "        # Discriminatorが学習しないように変更\n",
        "        make_trainable(discriminator,False)\n",
        "    \n",
        "        # 5. Generatorの学習\n",
        "        # バッチサイズの分だけランダムにノイズを生成\n",
        "        noise_gen = np.random.uniform(0,1,size=[BATCH_SIZE,100])\n",
        "        \n",
        "        # y = (バッチサイズ分のTrue(本物))\n",
        "        # 実際には生成した画像なのでDiscriminatorとしては偽物と判断すべきだが、Genaratorの学習なので生成した画像を本物と判断するように学習させる\n",
        "        y2 = np.zeros([BATCH_SIZE,2])\n",
        "        y2[:,1] = 1\n",
        "        \n",
        "        # Generatorのtrain\n",
        "        GAN.train_on_batch(noise_gen, y2 )"
      ],
      "execution_count": null,
      "outputs": []
    },
    {
      "cell_type": "code",
      "metadata": {
        "id": "9an-3pk44Uyl",
        "colab": {
          "base_uri": "https://localhost:8080/"
        },
        "outputId": "bc40830d-451d-437f-be22-7a2ae9e3821b"
      },
      "source": [
        "# データのロード\n",
        "X_train, _,_,_ = load_mnist()\n",
        "# それぞれのネットワークのインスタンスを生成\n",
        "generator = Generator()\n",
        "discriminator = Discriminator(X_train.shape[1:])\n",
        "make_trainable(discriminator, False)\n",
        "GAN = combined_network(generator, discriminator)\n"
      ],
      "execution_count": null,
      "outputs": [
        {
          "output_type": "stream",
          "name": "stdout",
          "text": [
            "Downloading data from https://storage.googleapis.com/tensorflow/tf-keras-datasets/mnist.npz\n",
            "11493376/11490434 [==============================] - 0s 0us/step\n",
            "11501568/11490434 [==============================] - 0s 0us/step\n"
          ]
        }
      ]
    },
    {
      "cell_type": "code",
      "metadata": {
        "id": "TiKQXZIM4c2N",
        "colab": {
          "base_uri": "https://localhost:8080/"
        },
        "outputId": "641e9bc1-fd4d-4570-ac15-9c15fe5c33fc"
      },
      "source": [
        "# train関数で学習を行うstepを大きくすると学習をより多く行います\n",
        "train()"
      ],
      "execution_count": null,
      "outputs": [
        {
          "output_type": "stream",
          "name": "stderr",
          "text": [
            "100%|██████████| 3000/3000 [11:21:31<00:00, 13.63s/it]\n"
          ]
        }
      ]
    },
    {
      "cell_type": "code",
      "metadata": {
        "id": "Wg9JyJQc4mlC",
        "colab": {
          "base_uri": "https://localhost:8080/",
          "height": 261
        },
        "outputId": "e3f6f3fc-8083-42f6-c7fd-050b2151e1c8"
      },
      "source": [
        "plot_mnist()\n"
      ],
      "execution_count": null,
      "outputs": [
        {
          "output_type": "display_data",
          "data": {
            "image/png": "[encoded data removed]",
            "text/plain": [
              "<Figure size 576x288 with 10 Axes>"
            ]
          },
          "metadata": {
            "needs_background": "light"
          }
        }
      ]
    }
  ]
}