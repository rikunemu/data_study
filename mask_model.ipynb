{
  "nbformat": 4,
  "nbformat_minor": 0,
  "metadata": {
    "colab": {
      "name": "mask_model.ipynb",
      "provenance": [],
      "collapsed_sections": [],
      "include_colab_link": true
    },
    "kernelspec": {
      "display_name": "Python 3",
      "name": "python3"
    },
    "language_info": {
      "name": "python"
    },
    "accelerator": "TPU"
  },
  "cells": [
    {
      "cell_type": "markdown",
      "metadata": {
        "id": "view-in-github",
        "colab_type": "text"
      },
      "source": [
        "<a href=\"https://colab.research.google.com/github/rikunemu/data_study/blob/main/mask_model.ipynb\" target=\"_parent\"><img src=\"https://colab.research.google.com/assets/colab-badge.svg\" alt=\"Open In Colab\"/></a>"
      ]
    },
    {
      "cell_type": "markdown",
      "metadata": {
        "id": "UYwdqBvyfX6X"
      },
      "source": [
        "#マスクデータのモデル作成及びテスト(CNN)\n"
      ]
    },
    {
      "cell_type": "code",
      "metadata": {
        "colab": {
          "base_uri": "https://localhost:8080/"
        },
        "id": "q81SB1cPBTJZ",
        "outputId": "355b4350-4411-4db3-aa19-28d480713390"
      },
      "source": [
        "import os\n",
        "import pandas as pd\n",
        "import numpy as np\n",
        "import matplotlib.pyplot as plt\n",
        "from keras import layers\n",
        "from keras import models\n",
        "from keras import optimizers\n",
        "from keras.preprocessing.image import ImageDataGenerator\n",
        "from google.colab import drive \n",
        "drive.mount('/content/drive')"
      ],
      "execution_count": null,
      "outputs": [
        {
          "output_type": "stream",
          "name": "stdout",
          "text": [
            "Mounted at /content/drive\n"
          ]
        }
      ]
    },
    {
      "cell_type": "code",
      "metadata": {
        "id": "fGo2CxbVHGuX"
      },
      "source": [
        "base_dir = '/content/drive/MyDrive/data分析/Face Mask Dataset/'\n",
        "train_dir = os.path.join(base_dir, 'Train')\n",
        "validation_dir = os.path.join(base_dir, 'Validation')\n",
        "test_dir = os.path.join(base_dir, 'Test')"
      ],
      "execution_count": null,
      "outputs": []
    },
    {
      "cell_type": "code",
      "metadata": {
        "id": "gQJioAgkdDhC"
      },
      "source": [
        "train_withmask_dir = os.path.join(train_dir, 'WithMask')\n",
        "train_withoutmask_dir = os.path.join(train_dir, 'WithoutMask')\n",
        "validation_withmask_dir = os.path.join(validation_dir, 'WithMask')\n",
        "validation_withoutmask_dir = os.path.join(validation_dir, 'WithoutMask')\n",
        "test_withmask_dir = os.path.join(test_dir, 'WithMask')\n",
        "test_withoutmask_dir = os.path.join(test_dir, 'WithoutMask')"
      ],
      "execution_count": null,
      "outputs": []
    },
    {
      "cell_type": "markdown",
      "metadata": {
        "id": "toXucimtfzfU"
      },
      "source": [
        "##binaryとcategoricalの違い\n",
        "binaryは0か1かを判定するので2値判定するのに適している  \n",
        "categoricalは多クラス分類するのに適している  \n",
        "今回は2つの値を入手する必要があったためcategoricalを使用"
      ]
    },
    {
      "cell_type": "markdown",
      "metadata": {
        "id": "4xwBlcwlib63"
      },
      "source": [
        "##batch_size\n",
        "ミニバッチ学習に使われるバッチのサイズ  \n",
        "データの枚数で割り切れるように調整する必要がある  \n",
        "データの数=batch_size*epochs"
      ]
    },
    {
      "cell_type": "markdown",
      "metadata": {
        "id": "HY6g06rGkc5r"
      },
      "source": [
        "##その他\n",
        "rescaleは正規化のための仕組みでRGB(0~255)で読み込まれた各画素のRGB値を0から1に収まるように正規化\n",
        "  \n",
        "target_sizeでサイズ調整"
      ]
    },
    {
      "cell_type": "code",
      "metadata": {
        "colab": {
          "base_uri": "https://localhost:8080/"
        },
        "id": "3UrRMGa5dFDS",
        "outputId": "1aea2801-717c-4495-f445-79e2064478b1"
      },
      "source": [
        "train_datagen = ImageDataGenerator(rescale = 1./255)\n",
        "test_datagen = ImageDataGenerator(rescale = 1./255)\n",
        "\n",
        "train_generator = train_datagen.flow_from_directory(\n",
        "    train_dir,\n",
        "    target_size = (150, 150),\n",
        "    batch_size = 40,\n",
        "    class_mode = 'categorical'\n",
        ")\n",
        "\n",
        "validation_generator = test_datagen.flow_from_directory(\n",
        "    validation_dir,\n",
        "    target_size = (150, 150),\n",
        "    batch_size = 20,\n",
        "    class_mode = 'categorical'\n",
        ")"
      ],
      "execution_count": null,
      "outputs": [
        {
          "output_type": "stream",
          "name": "stdout",
          "text": [
            "Found 10040 images belonging to 2 classes.\n",
            "Found 820 images belonging to 2 classes.\n"
          ]
        }
      ]
    },
    {
      "cell_type": "code",
      "metadata": {
        "colab": {
          "base_uri": "https://localhost:8080/"
        },
        "id": "rvaeM_a6g20u",
        "outputId": "8f4dacf3-b695-452e-a4dc-5be46e11c08b"
      },
      "source": [
        "for data_batch, labels_batch in train_generator:\n",
        "  print('data batch shape:', data_batch.shape)\n",
        "  print('labels batch shape:', labels_batch.shape)\n",
        "  break"
      ],
      "execution_count": null,
      "outputs": [
        {
          "output_type": "stream",
          "name": "stdout",
          "text": [
            "data batch shape: (40, 150, 150, 3)\n",
            "labels batch shape: (40, 2)\n"
          ]
        }
      ]
    },
    {
      "cell_type": "markdown",
      "metadata": {
        "id": "oOXXdwZKxcp2"
      },
      "source": [
        "##モデル作成\n",
        "出力層はsigmoidとsoftmax  \n",
        "softmaxを使うとどの特徴にも当てはまらないものも高い数字が出る可能性がある  \n",
        "imput_shape:横,縦,チャンネル数(今回はRGBなので3)  \n",
        "層を深くしすぎると表現力を失い一直線になる  \n",
        "Conv2D(16,(3,3)): 3*3の大きさのフィルタを16種類使用  \n",
        "activation='relu': Relu関数　0より大きい場合はそのまま、0未満は0\n"
      ]
    },
    {
      "cell_type": "code",
      "metadata": {
        "id": "H0Eukumz4Fxu"
      },
      "source": [
        "model = models.Sequential()\n",
        "model.add(layers.Conv2D(16, (3, 3), activation='relu', input_shape=(150, 150, 3)))\n",
        "model.add(layers.Conv2D(16, (3, 3), activation='relu'))\n",
        "model.add(layers.MaxPooling2D((2, 2)))\n",
        "model.add(layers.Conv2D(32, (3, 3), activation='relu'))\n",
        "model.add(layers.MaxPooling2D((2, 2)))\n",
        "model.add(layers.Flatten())\n",
        "model.add(layers.Dense(512, activation='relu'))\n",
        "model.add(layers.Dense(256, activation='relu'))\n",
        "model.add(layers.Dense(2, activation='sigmoid')) "
      ],
      "execution_count": null,
      "outputs": []
    },
    {
      "cell_type": "code",
      "metadata": {
        "colab": {
          "base_uri": "https://localhost:8080/"
        },
        "id": "FdzSXA7lijLs",
        "outputId": "06db252a-1748-42c3-c6ca-73f3040777d4"
      },
      "source": [
        "model.summary()"
      ],
      "execution_count": null,
      "outputs": [
        {
          "output_type": "stream",
          "name": "stdout",
          "text": [
            "Model: \"sequential_2\"\n",
            "_________________________________________________________________\n",
            "Layer (type)                 Output Shape              Param #   \n",
            "=================================================================\n",
            "conv2d_6 (Conv2D)            (None, 148, 148, 16)      448       \n",
            "_________________________________________________________________\n",
            "conv2d_7 (Conv2D)            (None, 146, 146, 16)      2320      \n",
            "_________________________________________________________________\n",
            "max_pooling2d_4 (MaxPooling2 (None, 73, 73, 16)        0         \n",
            "_________________________________________________________________\n",
            "conv2d_8 (Conv2D)            (None, 71, 71, 32)        4640      \n",
            "_________________________________________________________________\n",
            "max_pooling2d_5 (MaxPooling2 (None, 35, 35, 32)        0         \n",
            "_________________________________________________________________\n",
            "flatten_2 (Flatten)          (None, 39200)             0         \n",
            "_________________________________________________________________\n",
            "dense_6 (Dense)              (None, 512)               20070912  \n",
            "_________________________________________________________________\n",
            "dense_7 (Dense)              (None, 256)               131328    \n",
            "_________________________________________________________________\n",
            "dense_8 (Dense)              (None, 2)                 514       \n",
            "=================================================================\n",
            "Total params: 20,210,162\n",
            "Trainable params: 20,210,162\n",
            "Non-trainable params: 0\n",
            "_________________________________________________________________\n"
          ]
        }
      ]
    },
    {
      "cell_type": "markdown",
      "metadata": {
        "id": "xu1Rv5t0eKnl"
      },
      "source": [
        "##Adam\n",
        "MomentumとAdaGradを融合したような手法"
      ]
    },
    {
      "cell_type": "code",
      "metadata": {
        "id": "LYW1tIWwlXQG"
      },
      "source": [
        "from tensorflow.keras.optimizers import Adam\n",
        "adam = Adam(learning_rate=1e-4)\n",
        "model.compile(optimizer=adam,\n",
        "              loss='categorical_crossentropy',\n",
        "              metrics=['accuracy'])"
      ],
      "execution_count": null,
      "outputs": []
    },
    {
      "cell_type": "markdown",
      "metadata": {
        "id": "UPdwBuMr54lO"
      },
      "source": [
        "モデルを保存　再利用するときに便利"
      ]
    },
    {
      "cell_type": "code",
      "metadata": {
        "id": "9JCLshDfXa8Q"
      },
      "source": [
        "model.save('/content/drive/MyDrive/data分析/Face Mask Dataset/model.h5')"
      ],
      "execution_count": null,
      "outputs": []
    },
    {
      "cell_type": "code",
      "metadata": {
        "colab": {
          "base_uri": "https://localhost:8080/"
        },
        "id": "qCebtJv8i6ai",
        "outputId": "edd1ef65-45ea-4c76-c716-5346005d6092"
      },
      "source": [
        "history = model.fit_generator(train_generator,\n",
        "                              steps_per_epoch=251,\n",
        "                              epochs=10,\n",
        "                              validation_data=validation_generator,\n",
        "                              validation_steps=41)"
      ],
      "execution_count": null,
      "outputs": [
        {
          "output_type": "stream",
          "name": "stderr",
          "text": [
            "/usr/local/lib/python3.7/dist-packages/keras/engine/training.py:1972: UserWarning: `Model.fit_generator` is deprecated and will be removed in a future version. Please use `Model.fit`, which supports generators.\n",
            "  warnings.warn('`Model.fit_generator` is deprecated and '\n"
          ]
        },
        {
          "output_type": "stream",
          "name": "stdout",
          "text": [
            "Epoch 1/10\n",
            "251/251 [==============================] - 2423s 10s/step - loss: 0.1510 - accuracy: 0.9411 - val_loss: 0.0429 - val_accuracy: 0.9866\n",
            "Epoch 2/10\n",
            "251/251 [==============================] - 377s 2s/step - loss: 0.0450 - accuracy: 0.9836 - val_loss: 0.0280 - val_accuracy: 0.9902\n",
            "Epoch 3/10\n",
            "251/251 [==============================] - 376s 1s/step - loss: 0.0269 - accuracy: 0.9904 - val_loss: 0.0380 - val_accuracy: 0.9866\n",
            "Epoch 4/10\n",
            "251/251 [==============================] - 374s 1s/step - loss: 0.0198 - accuracy: 0.9934 - val_loss: 0.0207 - val_accuracy: 0.9939\n",
            "Epoch 5/10\n",
            "251/251 [==============================] - 373s 1s/step - loss: 0.0143 - accuracy: 0.9950 - val_loss: 0.0259 - val_accuracy: 0.9915\n",
            "Epoch 6/10\n",
            "251/251 [==============================] - 372s 1s/step - loss: 0.0098 - accuracy: 0.9960 - val_loss: 0.0294 - val_accuracy: 0.9927\n",
            "Epoch 7/10\n",
            "251/251 [==============================] - 371s 1s/step - loss: 0.0054 - accuracy: 0.9984 - val_loss: 0.0222 - val_accuracy: 0.9951\n",
            "Epoch 8/10\n",
            "251/251 [==============================] - 371s 1s/step - loss: 0.0034 - accuracy: 0.9990 - val_loss: 0.0235 - val_accuracy: 0.9963\n",
            "Epoch 9/10\n",
            "251/251 [==============================] - 369s 1s/step - loss: 0.0020 - accuracy: 0.9997 - val_loss: 0.0367 - val_accuracy: 0.9915\n",
            "Epoch 10/10\n",
            "251/251 [==============================] - 370s 1s/step - loss: 0.0015 - accuracy: 0.9995 - val_loss: 0.0235 - val_accuracy: 0.9939\n"
          ]
        }
      ]
    },
    {
      "cell_type": "markdown",
      "metadata": {
        "id": "Ea24ZPMp5wmP"
      },
      "source": [
        "重みを保存　再利用するときに便利\n"
      ]
    },
    {
      "cell_type": "code",
      "metadata": {
        "id": "1EzfDOzAj4b1"
      },
      "source": [
        "model.save('/content/drive/MyDrive/data分析/Face Mask Dataset/mask.h5')"
      ],
      "execution_count": null,
      "outputs": []
    },
    {
      "cell_type": "code",
      "metadata": {
        "id": "2y3JH9BJj-mq",
        "colab": {
          "base_uri": "https://localhost:8080/",
          "height": 281
        },
        "outputId": "1e2c9c31-73c1-468e-dfb3-5b8b032b716a"
      },
      "source": [
        "acc = history.history['accuracy']\n",
        "val_acc = history.history['val_accuracy']\n",
        "loss = history.history['loss']\n",
        "val_loss = history.history['val_loss']\n",
        "\n",
        "epochs = range(1, len(acc) + 1)\n",
        "\n",
        "plt.plot(epochs, acc, 'bo', label='Training acc')\n",
        "plt.plot(epochs, val_acc, 'b', label='Validation acc')\n",
        "plt.title('Training and Validation accuracy')\n",
        "plt.legend()\n",
        "plt.savefig('/content/drive/MyDrive/data分析/Face Mask Dataset/accuracy.png')\n",
        "plt.show()\n",
        "plt.close()"
      ],
      "execution_count": null,
      "outputs": [
        {
          "output_type": "display_data",
          "data": {
            "image/png": "[encoded data removed]",
            "text/plain": [
              "<Figure size 432x288 with 1 Axes>"
            ]
          },
          "metadata": {
            "needs_background": "light"
          }
        }
      ]
    },
    {
      "cell_type": "code",
      "metadata": {
        "id": "pv437yggkzuD",
        "colab": {
          "base_uri": "https://localhost:8080/",
          "height": 281
        },
        "outputId": "29977632-9acd-4a33-8fb3-420d3fa9d6c5"
      },
      "source": [
        "plt.plot(epochs, loss, 'bo', label='Training loss')\n",
        "plt.plot(epochs, val_loss, 'b', label='Validation loss')\n",
        "plt.title('Training and Validation loss')\n",
        "plt.legend()\n",
        "plt.savefig('/content/drive/MyDrive/data分析/Face Mask Dataset/loss.png')\n",
        "plt.show()\n",
        "plt.close()"
      ],
      "execution_count": null,
      "outputs": [
        {
          "output_type": "display_data",
          "data": {
            "image/png": "[encoded data removed]",
            "text/plain": [
              "<Figure size 432x288 with 1 Axes>"
            ]
          },
          "metadata": {
            "needs_background": "light"
          }
        }
      ]
    },
    {
      "cell_type": "code",
      "metadata": {
        "id": "LZsDvNq8Rm6K"
      },
      "source": [
        "hist_df = pd.DataFrame(history.history)\n",
        "hist_df.to_csv('/content/drive/MyDrive/data分析/Face Mask Dataset/history.csv')"
      ],
      "execution_count": null,
      "outputs": []
    },
    {
      "cell_type": "code",
      "metadata": {
        "id": "Km4NMMlGSGQL",
        "colab": {
          "base_uri": "https://localhost:8080/",
          "height": 359
        },
        "outputId": "4c083d84-5718-4774-a948-e5f211a842e5"
      },
      "source": [
        "hist_df"
      ],
      "execution_count": null,
      "outputs": [
        {
          "output_type": "execute_result",
          "data": {
            "text/html": [
              "<div>\n",
              "<style scoped>\n",
              "    .dataframe tbody tr th:only-of-type {\n",
              "        vertical-align: middle;\n",
              "    }\n",
              "\n",
              "    .dataframe tbody tr th {\n",
              "        vertical-align: top;\n",
              "    }\n",
              "\n",
              "    .dataframe thead th {\n",
              "        text-align: right;\n",
              "    }\n",
              "</style>\n",
              "<table border=\"1\" class=\"dataframe\">\n",
              "  <thead>\n",
              "    <tr style=\"text-align: right;\">\n",
              "      <th></th>\n",
              "      <th>loss</th>\n",
              "      <th>accuracy</th>\n",
              "      <th>val_loss</th>\n",
              "      <th>val_accuracy</th>\n",
              "    </tr>\n",
              "  </thead>\n",
              "  <tbody>\n",
              "    <tr>\n",
              "      <th>0</th>\n",
              "      <td>0.150955</td>\n",
              "      <td>0.941135</td>\n",
              "      <td>0.042928</td>\n",
              "      <td>0.986585</td>\n",
              "    </tr>\n",
              "    <tr>\n",
              "      <th>1</th>\n",
              "      <td>0.045008</td>\n",
              "      <td>0.983566</td>\n",
              "      <td>0.028047</td>\n",
              "      <td>0.990244</td>\n",
              "    </tr>\n",
              "    <tr>\n",
              "      <th>2</th>\n",
              "      <td>0.026877</td>\n",
              "      <td>0.990438</td>\n",
              "      <td>0.038037</td>\n",
              "      <td>0.986585</td>\n",
              "    </tr>\n",
              "    <tr>\n",
              "      <th>3</th>\n",
              "      <td>0.019846</td>\n",
              "      <td>0.993426</td>\n",
              "      <td>0.020697</td>\n",
              "      <td>0.993902</td>\n",
              "    </tr>\n",
              "    <tr>\n",
              "      <th>4</th>\n",
              "      <td>0.014271</td>\n",
              "      <td>0.995020</td>\n",
              "      <td>0.025939</td>\n",
              "      <td>0.991463</td>\n",
              "    </tr>\n",
              "    <tr>\n",
              "      <th>5</th>\n",
              "      <td>0.009801</td>\n",
              "      <td>0.996016</td>\n",
              "      <td>0.029420</td>\n",
              "      <td>0.992683</td>\n",
              "    </tr>\n",
              "    <tr>\n",
              "      <th>6</th>\n",
              "      <td>0.005398</td>\n",
              "      <td>0.998406</td>\n",
              "      <td>0.022154</td>\n",
              "      <td>0.995122</td>\n",
              "    </tr>\n",
              "    <tr>\n",
              "      <th>7</th>\n",
              "      <td>0.003428</td>\n",
              "      <td>0.999004</td>\n",
              "      <td>0.023468</td>\n",
              "      <td>0.996341</td>\n",
              "    </tr>\n",
              "    <tr>\n",
              "      <th>8</th>\n",
              "      <td>0.002025</td>\n",
              "      <td>0.999701</td>\n",
              "      <td>0.036655</td>\n",
              "      <td>0.991463</td>\n",
              "    </tr>\n",
              "    <tr>\n",
              "      <th>9</th>\n",
              "      <td>0.001528</td>\n",
              "      <td>0.999502</td>\n",
              "      <td>0.023512</td>\n",
              "      <td>0.993902</td>\n",
              "    </tr>\n",
              "  </tbody>\n",
              "</table>\n",
              "</div>"
            ],
            "text/plain": [
              "       loss  accuracy  val_loss  val_accuracy\n",
              "0  0.150955  0.941135  0.042928      0.986585\n",
              "1  0.045008  0.983566  0.028047      0.990244\n",
              "2  0.026877  0.990438  0.038037      0.986585\n",
              "3  0.019846  0.993426  0.020697      0.993902\n",
              "4  0.014271  0.995020  0.025939      0.991463\n",
              "5  0.009801  0.996016  0.029420      0.992683\n",
              "6  0.005398  0.998406  0.022154      0.995122\n",
              "7  0.003428  0.999004  0.023468      0.996341\n",
              "8  0.002025  0.999701  0.036655      0.991463\n",
              "9  0.001528  0.999502  0.023512      0.993902"
            ]
          },
          "metadata": {},
          "execution_count": 33
        }
      ]
    },
    {
      "cell_type": "code",
      "metadata": {
        "id": "0TwHPOFuVmpm"
      },
      "source": [
        "# モデルと重みの読み込み\n",
        "model.load_weights('/content/drive/MyDrive/data分析/Face Mask Dataset/mask.h5')"
      ],
      "execution_count": null,
      "outputs": []
    },
    {
      "cell_type": "code",
      "metadata": {
        "colab": {
          "base_uri": "https://localhost:8080/"
        },
        "id": "FY0IrMA5Xm31",
        "outputId": "86191fc0-aa38-4c17-ccfa-17359fcc4968"
      },
      "source": [
        "test_generater = test_datagen.flow_from_directory(\n",
        "    test_dir,\n",
        "    target_size =  (150, 150),\n",
        "    batch_size = 32,\n",
        "    class_mode = 'categorical'\n",
        ")"
      ],
      "execution_count": null,
      "outputs": [
        {
          "output_type": "stream",
          "name": "stdout",
          "text": [
            "Found 992 images belonging to 2 classes.\n"
          ]
        }
      ]
    },
    {
      "cell_type": "code",
      "metadata": {
        "colab": {
          "base_uri": "https://localhost:8080/"
        },
        "id": "ibnHW_fjXrFc",
        "outputId": "378acc20-f149-4b67-c55e-2cf52309d870"
      },
      "source": [
        "test_loss, test_acc = model.evaluate_generator(test_generater, steps=31)\n",
        "print('test acc:', test_acc)\n",
        "print('test loss', test_loss)"
      ],
      "execution_count": null,
      "outputs": [
        {
          "output_type": "stream",
          "name": "stderr",
          "text": [
            "/usr/local/lib/python3.7/dist-packages/keras/engine/training.py:2006: UserWarning: `Model.evaluate_generator` is deprecated and will be removed in a future version. Please use `Model.evaluate`, which supports generators.\n",
            "  warnings.warn('`Model.evaluate_generator` is deprecated and '\n"
          ]
        },
        {
          "output_type": "stream",
          "name": "stdout",
          "text": [
            "test acc: 0.9889112710952759\n",
            "test loss 0.05744926258921623\n"
          ]
        }
      ]
    },
    {
      "cell_type": "code",
      "metadata": {
        "id": "Nx3ChRuoHvtr"
      },
      "source": [
        "import tensorflow as tf\n",
        "desu='/content/drive/MyDrive/data分析/Face Mask Dataset'\n",
        "modeldesu = tf.keras.models.load_model(desu+'/model.h5')\n",
        "\n",
        "modeldesu.load_weights(desu+'/mask.h5')"
      ],
      "execution_count": null,
      "outputs": []
    },
    {
      "cell_type": "code",
      "metadata": {
        "id": "0lCzy2MFIFRR"
      },
      "source": [
        "import tensorflow as tf\n",
        "from PIL import Image, ImageOps\n",
        "filename = test_withoutmask_dir + ('/46.png')\n",
        "img = Image.open(filename)\n",
        "\n",
        "#img = np.array(img).flatten() / 255\n",
        "#img = Image.fromarray(img)\n",
        "img = img.resize((150, 150))\n",
        "img = np.expand_dims(img,0)\n",
        "img = img / 255.0\n",
        "img_array = np.expand_dims(np.array(img).flatten() / 255,0)"
      ],
      "execution_count": null,
      "outputs": []
    },
    {
      "cell_type": "code",
      "metadata": {
        "colab": {
          "base_uri": "https://localhost:8080/"
        },
        "id": "yaSddaFWIig5",
        "outputId": "ac57428c-2208-45c1-c5f3-84d9040c07a9"
      },
      "source": [
        "img_array = np.array(img)\n",
        "# 推論\n",
        "result=modeldesu.predict(img_array)\n",
        "#result=tf.nn.sigmoid(modeldesu.predict(img_array[None,...]))\n",
        "1 - np.float(result[0][0])  # 1に近いほどマスク"
      ],
      "execution_count": null,
      "outputs": [
        {
          "output_type": "execute_result",
          "data": {
            "text/plain": [
              "0.9975512027740479"
            ]
          },
          "metadata": {},
          "execution_count": 21
        }
      ]
    }
  ]
}