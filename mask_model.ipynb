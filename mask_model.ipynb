{
  "nbformat": 4,
  "nbformat_minor": 0,
  "metadata": {
    "colab": {
      "name": "mask_model.ipynb",
      "provenance": [],
      "collapsed_sections": [],
      "include_colab_link": true
    },
    "kernelspec": {
      "display_name": "Python 3",
      "name": "python3"
    },
    "language_info": {
      "name": "python"
    },
    "accelerator": "TPU"
  },
  "cells": [
    {
      "cell_type": "markdown",
      "metadata": {
        "id": "view-in-github",
        "colab_type": "text"
      },
      "source": [
        "<a href=\"https://colab.research.google.com/github/rikunemu/data_study/blob/main/mask_model.ipynb\" target=\"_parent\"><img src=\"https://colab.research.google.com/assets/colab-badge.svg\" alt=\"Open In Colab\"/></a>"
      ]
    },
    {
      "cell_type": "code",
      "metadata": {
        "colab": {
          "base_uri": "https://localhost:8080/"
        },
        "id": "q81SB1cPBTJZ",
        "outputId": "53f1aaff-7c88-4864-81ee-285038bb3ac0"
      },
      "source": [
        "import os\n",
        "import pandas as pd\n",
        "import numpy as np\n",
        "import matplotlib.pyplot as plt\n",
        "from keras import layers\n",
        "from keras import models\n",
        "from keras import optimizers\n",
        "from keras.preprocessing.image import ImageDataGenerator\n",
        "from google.colab import drive \n",
        "drive.mount('/content/drive')"
      ],
      "execution_count": null,
      "outputs": [
        {
          "output_type": "stream",
          "name": "stdout",
          "text": [
            "Mounted at /content/drive\n"
          ]
        }
      ]
    },
    {
      "cell_type": "code",
      "metadata": {
        "id": "fGo2CxbVHGuX"
      },
      "source": [
        "base_dir = '/content/drive/MyDrive/data分析/Face Mask Dataset/'\n",
        "train_dir = os.path.join(base_dir, 'Train')\n",
        "validation_dir = os.path.join(base_dir, 'Validation')\n",
        "test_dir = os.path.join(base_dir, 'Test')"
      ],
      "execution_count": null,
      "outputs": []
    },
    {
      "cell_type": "code",
      "metadata": {
        "id": "gQJioAgkdDhC"
      },
      "source": [
        "train_withmask_dir = os.path.join(train_dir, 'WithMask')\n",
        "train_withoutmask_dir = os.path.join(train_dir, 'WithoutMask')\n",
        "validation_withmask_dir = os.path.join(validation_dir, 'WithMask')\n",
        "validation_withoutmask_dir = os.path.join(validation_dir, 'WithoutMask')\n",
        "test_withmask_dir = os.path.join(test_dir, 'WithMask')\n",
        "test_withoutmask_dir = os.path.join(test_dir, 'WithoutMask')"
      ],
      "execution_count": null,
      "outputs": []
    },
    {
      "cell_type": "code",
      "metadata": {
        "colab": {
          "base_uri": "https://localhost:8080/"
        },
        "id": "3UrRMGa5dFDS",
        "outputId": "2c7fa3fd-7ace-4520-d51d-8bac41078d91"
      },
      "source": [
        "train_datagen = ImageDataGenerator(rescale = 1./255)\n",
        "test_datagen = ImageDataGenerator(rescale = 1./255)\n",
        "\n",
        "train_generator = train_datagen.flow_from_directory(\n",
        "    train_dir,\n",
        "    target_size = (150, 150),\n",
        "    batch_size = 40,\n",
        "    class_mode = 'binary'\n",
        ")\n",
        "\n",
        "validation_generator = test_datagen.flow_from_directory(\n",
        "    validation_dir,\n",
        "    target_size = (150, 150),\n",
        "    batch_size = 20,\n",
        "    class_mode = 'binary'\n",
        ")"
      ],
      "execution_count": null,
      "outputs": [
        {
          "output_type": "stream",
          "name": "stdout",
          "text": [
            "Found 10040 images belonging to 2 classes.\n",
            "Found 820 images belonging to 2 classes.\n"
          ]
        }
      ]
    },
    {
      "cell_type": "code",
      "metadata": {
        "colab": {
          "base_uri": "https://localhost:8080/"
        },
        "id": "rvaeM_a6g20u",
        "outputId": "310e9665-5482-4c69-8cc2-2a379f44bd19"
      },
      "source": [
        "for data_batch, labels_batch in train_generator:\n",
        "  print('data batch shape:', data_batch.shape)\n",
        "  print('labels batch shape:', labels_batch.shape)\n",
        "  break"
      ],
      "execution_count": null,
      "outputs": [
        {
          "output_type": "stream",
          "name": "stdout",
          "text": [
            "data batch shape: (40, 150, 150, 3)\n",
            "labels batch shape: (40,)\n"
          ]
        }
      ]
    },
    {
      "cell_type": "code",
      "metadata": {
        "id": "H0Eukumz4Fxu"
      },
      "source": [
        "model = models.Sequential()\n",
        "model.add(layers.Conv2D(16, (3, 3), activation='relu', input_shape=(150, 150, 3)))\n",
        "model.add(layers.Conv2D(16, (3, 3), activation='relu'))\n",
        "model.add(layers.MaxPooling2D((2, 2)))\n",
        "model.add(layers.Conv2D(32, (3, 3), activation='relu'))\n",
        "model.add(layers.MaxPooling2D((2, 2)))\n",
        "model.add(layers.Flatten())\n",
        "model.add(layers.Dense(512, activation='relu'))\n",
        "model.add(layers.Dense(256, activation='relu'))\n",
        "model.add(layers.Dense(2, activation='sigmoid')) "
      ],
      "execution_count": null,
      "outputs": []
    },
    {
      "cell_type": "code",
      "metadata": {
        "colab": {
          "base_uri": "https://localhost:8080/"
        },
        "id": "FdzSXA7lijLs",
        "outputId": "80d741d6-1e3e-4767-d8db-895befdbc095"
      },
      "source": [
        "model.summary()"
      ],
      "execution_count": null,
      "outputs": [
        {
          "output_type": "stream",
          "name": "stdout",
          "text": [
            "Model: \"sequential\"\n",
            "_________________________________________________________________\n",
            "Layer (type)                 Output Shape              Param #   \n",
            "=================================================================\n",
            "conv2d (Conv2D)              (None, 148, 148, 16)      448       \n",
            "_________________________________________________________________\n",
            "conv2d_1 (Conv2D)            (None, 146, 146, 16)      2320      \n",
            "_________________________________________________________________\n",
            "max_pooling2d (MaxPooling2D) (None, 73, 73, 16)        0         \n",
            "_________________________________________________________________\n",
            "conv2d_2 (Conv2D)            (None, 71, 71, 32)        4640      \n",
            "_________________________________________________________________\n",
            "max_pooling2d_1 (MaxPooling2 (None, 35, 35, 32)        0         \n",
            "_________________________________________________________________\n",
            "flatten (Flatten)            (None, 39200)             0         \n",
            "_________________________________________________________________\n",
            "dense (Dense)                (None, 512)               20070912  \n",
            "_________________________________________________________________\n",
            "dense_1 (Dense)              (None, 256)               131328    \n",
            "_________________________________________________________________\n",
            "dense_2 (Dense)              (None, 1)                 257       \n",
            "=================================================================\n",
            "Total params: 20,209,905\n",
            "Trainable params: 20,209,905\n",
            "Non-trainable params: 0\n",
            "_________________________________________________________________\n"
          ]
        }
      ]
    },
    {
      "cell_type": "code",
      "metadata": {
        "id": "MjMnlEPuUY7I"
      },
      "source": [
        ""
      ],
      "execution_count": null,
      "outputs": []
    },
    {
      "cell_type": "code",
      "metadata": {
        "id": "LYW1tIWwlXQG"
      },
      "source": [
        "from tensorflow.keras.optimizers import Adam\n",
        "adam = Adam(learning_rate=1e-4)\n",
        "model.compile(optimizer=adam,\n",
        "              loss='binary_crossentropy',\n",
        "              metrics=['accuracy'])"
      ],
      "execution_count": null,
      "outputs": []
    },
    {
      "cell_type": "code",
      "metadata": {
        "id": "9JCLshDfXa8Q"
      },
      "source": [
        "model.save('/content/drive/MyDrive/data分析/Face Mask Dataset/model.h5')"
      ],
      "execution_count": null,
      "outputs": []
    },
    {
      "cell_type": "code",
      "metadata": {
        "colab": {
          "base_uri": "https://localhost:8080/"
        },
        "id": "qCebtJv8i6ai",
        "outputId": "b3ac5217-4637-429b-8bce-1f8c66e16f95"
      },
      "source": [
        "history = model.fit_generator(train_generator,\n",
        "                              steps_per_epoch=251,\n",
        "                              epochs=10,\n",
        "                              validation_data=validation_generator,\n",
        "                              validation_steps=41)\n",
        "#ETA は estimated time of arrivalの略で、1エポックあたりのトレーニングにかかる時間の予測のこと"
      ],
      "execution_count": null,
      "outputs": [
        {
          "output_type": "stream",
          "name": "stderr",
          "text": [
            "/usr/local/lib/python3.7/dist-packages/keras/engine/training.py:1972: UserWarning: `Model.fit_generator` is deprecated and will be removed in a future version. Please use `Model.fit`, which supports generators.\n",
            "  warnings.warn('`Model.fit_generator` is deprecated and '\n"
          ]
        },
        {
          "output_type": "stream",
          "name": "stdout",
          "text": [
            "Epoch 1/10\n",
            "251/251 [==============================] - 3347s 13s/step - loss: 0.1402 - accuracy: 0.9469 - val_loss: 0.0606 - val_accuracy: 0.9780\n",
            "Epoch 2/10\n",
            "251/251 [==============================] - 369s 1s/step - loss: 0.0473 - accuracy: 0.9816 - val_loss: 0.0281 - val_accuracy: 0.9878\n",
            "Epoch 3/10\n",
            "251/251 [==============================] - 372s 1s/step - loss: 0.0318 - accuracy: 0.9886 - val_loss: 0.0210 - val_accuracy: 0.9927\n",
            "Epoch 4/10\n",
            "251/251 [==============================] - 375s 1s/step - loss: 0.0225 - accuracy: 0.9920 - val_loss: 0.0149 - val_accuracy: 0.9951\n",
            "Epoch 5/10\n",
            "251/251 [==============================] - 381s 2s/step - loss: 0.0138 - accuracy: 0.9955 - val_loss: 0.0306 - val_accuracy: 0.9902\n",
            "Epoch 6/10\n",
            "251/251 [==============================] - 398s 2s/step - loss: 0.0124 - accuracy: 0.9959 - val_loss: 0.0162 - val_accuracy: 0.9939\n",
            "Epoch 7/10\n",
            "251/251 [==============================] - 399s 2s/step - loss: 0.0080 - accuracy: 0.9971 - val_loss: 0.0160 - val_accuracy: 0.9927\n",
            "Epoch 8/10\n",
            "251/251 [==============================] - 396s 2s/step - loss: 0.0077 - accuracy: 0.9975 - val_loss: 0.0131 - val_accuracy: 0.9939\n",
            "Epoch 9/10\n",
            "251/251 [==============================] - 395s 2s/step - loss: 0.0020 - accuracy: 0.9997 - val_loss: 0.0135 - val_accuracy: 0.9963\n",
            "Epoch 10/10\n",
            "251/251 [==============================] - 396s 2s/step - loss: 0.0014 - accuracy: 0.9998 - val_loss: 0.0125 - val_accuracy: 0.9951\n"
          ]
        }
      ]
    },
    {
      "cell_type": "code",
      "metadata": {
        "id": "1EzfDOzAj4b1"
      },
      "source": [
        "model.save('/content/drive/MyDrive/data分析/Face Mask Dataset/mask.h5')"
      ],
      "execution_count": null,
      "outputs": []
    },
    {
      "cell_type": "code",
      "metadata": {
        "id": "2y3JH9BJj-mq",
        "colab": {
          "base_uri": "https://localhost:8080/",
          "height": 281
        },
        "outputId": "ed3ba017-86fb-48df-eea7-1a43d8098a2d"
      },
      "source": [
        "acc = history.history['accuracy']\n",
        "val_acc = history.history['val_accuracy']\n",
        "loss = history.history['loss']\n",
        "val_loss = history.history['val_loss']\n",
        "\n",
        "epochs = range(1, len(acc) + 1)\n",
        "\n",
        "plt.plot(epochs, acc, 'bo', label='Training acc')\n",
        "plt.plot(epochs, val_acc, 'b', label='Validation acc')\n",
        "plt.title('Training and Validation accuracy')\n",
        "plt.legend()\n",
        "plt.savefig('/content/drive/MyDrive/data分析/Face Mask Dataset/accuracy.png')\n",
        "plt.show()\n",
        "plt.close()"
      ],
      "execution_count": null,
      "outputs": [
        {
          "output_type": "display_data",
          "data": {
            "image/png": "[encoded data removed]",
            "text/plain": [
              "<Figure size 432x288 with 1 Axes>"
            ]
          },
          "metadata": {
            "needs_background": "light"
          }
        }
      ]
    },
    {
      "cell_type": "code",
      "metadata": {
        "id": "pv437yggkzuD",
        "colab": {
          "base_uri": "https://localhost:8080/",
          "height": 281
        },
        "outputId": "47960583-2a1c-47e3-f290-217039cc1fc0"
      },
      "source": [
        "plt.plot(epochs, loss, 'bo', label='Training loss')\n",
        "plt.plot(epochs, val_loss, 'b', label='Validation loss')\n",
        "plt.title('Training and Validation loss')\n",
        "plt.legend()\n",
        "plt.savefig('/content/drive/MyDrive/data分析/Face Mask Dataset/loss.png')\n",
        "plt.show()\n",
        "plt.close()"
      ],
      "execution_count": null,
      "outputs": [
        {
          "output_type": "display_data",
          "data": {
            "image/png": "[encoded data removed]",
            "text/plain": [
              "<Figure size 432x288 with 1 Axes>"
            ]
          },
          "metadata": {
            "needs_background": "light"
          }
        }
      ]
    },
    {
      "cell_type": "code",
      "metadata": {
        "id": "LZsDvNq8Rm6K"
      },
      "source": [
        "hist_df = pd.DataFrame(history.history)\n",
        "hist_df.to_csv('/content/drive/MyDrive/data分析/Face Mask Dataset/history.csv')"
      ],
      "execution_count": null,
      "outputs": []
    },
    {
      "cell_type": "code",
      "metadata": {
        "id": "Km4NMMlGSGQL",
        "colab": {
          "base_uri": "https://localhost:8080/",
          "height": 359
        },
        "outputId": "b2993542-fa73-4b04-9db7-0ba73b922094"
      },
      "source": [
        "hist_df"
      ],
      "execution_count": null,
      "outputs": [
        {
          "output_type": "execute_result",
          "data": {
            "text/html": [
              "<div>\n",
              "<style scoped>\n",
              "    .dataframe tbody tr th:only-of-type {\n",
              "        vertical-align: middle;\n",
              "    }\n",
              "\n",
              "    .dataframe tbody tr th {\n",
              "        vertical-align: top;\n",
              "    }\n",
              "\n",
              "    .dataframe thead th {\n",
              "        text-align: right;\n",
              "    }\n",
              "</style>\n",
              "<table border=\"1\" class=\"dataframe\">\n",
              "  <thead>\n",
              "    <tr style=\"text-align: right;\">\n",
              "      <th></th>\n",
              "      <th>loss</th>\n",
              "      <th>accuracy</th>\n",
              "      <th>val_loss</th>\n",
              "      <th>val_accuracy</th>\n",
              "    </tr>\n",
              "  </thead>\n",
              "  <tbody>\n",
              "    <tr>\n",
              "      <th>0</th>\n",
              "      <td>0.140204</td>\n",
              "      <td>0.946912</td>\n",
              "      <td>0.060608</td>\n",
              "      <td>0.978049</td>\n",
              "    </tr>\n",
              "    <tr>\n",
              "      <th>1</th>\n",
              "      <td>0.047282</td>\n",
              "      <td>0.981574</td>\n",
              "      <td>0.028107</td>\n",
              "      <td>0.987805</td>\n",
              "    </tr>\n",
              "    <tr>\n",
              "      <th>2</th>\n",
              "      <td>0.031756</td>\n",
              "      <td>0.988645</td>\n",
              "      <td>0.021034</td>\n",
              "      <td>0.992683</td>\n",
              "    </tr>\n",
              "    <tr>\n",
              "      <th>3</th>\n",
              "      <td>0.022534</td>\n",
              "      <td>0.992032</td>\n",
              "      <td>0.014871</td>\n",
              "      <td>0.995122</td>\n",
              "    </tr>\n",
              "    <tr>\n",
              "      <th>4</th>\n",
              "      <td>0.013770</td>\n",
              "      <td>0.995518</td>\n",
              "      <td>0.030573</td>\n",
              "      <td>0.990244</td>\n",
              "    </tr>\n",
              "    <tr>\n",
              "      <th>5</th>\n",
              "      <td>0.012391</td>\n",
              "      <td>0.995916</td>\n",
              "      <td>0.016231</td>\n",
              "      <td>0.993902</td>\n",
              "    </tr>\n",
              "    <tr>\n",
              "      <th>6</th>\n",
              "      <td>0.008047</td>\n",
              "      <td>0.997112</td>\n",
              "      <td>0.015950</td>\n",
              "      <td>0.992683</td>\n",
              "    </tr>\n",
              "    <tr>\n",
              "      <th>7</th>\n",
              "      <td>0.007732</td>\n",
              "      <td>0.997510</td>\n",
              "      <td>0.013074</td>\n",
              "      <td>0.993902</td>\n",
              "    </tr>\n",
              "    <tr>\n",
              "      <th>8</th>\n",
              "      <td>0.001972</td>\n",
              "      <td>0.999701</td>\n",
              "      <td>0.013495</td>\n",
              "      <td>0.996341</td>\n",
              "    </tr>\n",
              "    <tr>\n",
              "      <th>9</th>\n",
              "      <td>0.001382</td>\n",
              "      <td>0.999801</td>\n",
              "      <td>0.012480</td>\n",
              "      <td>0.995122</td>\n",
              "    </tr>\n",
              "  </tbody>\n",
              "</table>\n",
              "</div>"
            ],
            "text/plain": [
              "       loss  accuracy  val_loss  val_accuracy\n",
              "0  0.140204  0.946912  0.060608      0.978049\n",
              "1  0.047282  0.981574  0.028107      0.987805\n",
              "2  0.031756  0.988645  0.021034      0.992683\n",
              "3  0.022534  0.992032  0.014871      0.995122\n",
              "4  0.013770  0.995518  0.030573      0.990244\n",
              "5  0.012391  0.995916  0.016231      0.993902\n",
              "6  0.008047  0.997112  0.015950      0.992683\n",
              "7  0.007732  0.997510  0.013074      0.993902\n",
              "8  0.001972  0.999701  0.013495      0.996341\n",
              "9  0.001382  0.999801  0.012480      0.995122"
            ]
          },
          "metadata": {},
          "execution_count": 15
        }
      ]
    },
    {
      "cell_type": "code",
      "metadata": {
        "id": "0TwHPOFuVmpm"
      },
      "source": [
        "# モデルと重みの読み込み\n",
        "#model_from_json(open('model.json',\"w\").read(model.to_json()))\n",
        "model.load_weights('/content/drive/MyDrive/data分析/Face Mask Dataset/mask.h5')"
      ],
      "execution_count": null,
      "outputs": []
    },
    {
      "cell_type": "code",
      "metadata": {
        "colab": {
          "base_uri": "https://localhost:8080/"
        },
        "id": "FY0IrMA5Xm31",
        "outputId": "7e9306da-7579-46ae-c2ae-30a77920d646"
      },
      "source": [
        "test_generater = test_datagen.flow_from_directory(\n",
        "    test_dir,\n",
        "    target_size =  (150, 150),\n",
        "    batch_size = 32,\n",
        "    class_mode = 'binary'\n",
        ")"
      ],
      "execution_count": null,
      "outputs": [
        {
          "output_type": "stream",
          "name": "stdout",
          "text": [
            "Found 992 images belonging to 2 classes.\n"
          ]
        }
      ]
    },
    {
      "cell_type": "code",
      "metadata": {
        "colab": {
          "base_uri": "https://localhost:8080/"
        },
        "id": "ibnHW_fjXrFc",
        "outputId": "5620403e-a91d-4e2a-d059-00d91c9db3b7"
      },
      "source": [
        "test_loss, test_acc = model.evaluate_generator(test_generater, steps=31)\n",
        "print('test acc:', test_acc)\n",
        "print('test loss', test_loss)"
      ],
      "execution_count": null,
      "outputs": [
        {
          "output_type": "stream",
          "name": "stderr",
          "text": [
            "/usr/local/lib/python3.7/dist-packages/keras/engine/training.py:2006: UserWarning: `Model.evaluate_generator` is deprecated and will be removed in a future version. Please use `Model.evaluate`, which supports generators.\n",
            "  warnings.warn('`Model.evaluate_generator` is deprecated and '\n"
          ]
        },
        {
          "output_type": "stream",
          "name": "stdout",
          "text": [
            "test acc: 0.9858871102333069\n",
            "test loss 0.05718327313661575\n"
          ]
        }
      ]
    }
  ]
}