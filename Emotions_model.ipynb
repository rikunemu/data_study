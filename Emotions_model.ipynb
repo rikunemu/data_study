{
  "nbformat": 4,
  "nbformat_minor": 0,
  "metadata": {
    "colab": {
      "name": "Emotions model.ipynb",
      "provenance": [],
      "collapsed_sections": []
    },
    "kernelspec": {
      "display_name": "Python 3",
      "name": "python3"
    },
    "language_info": {
      "name": "python"
    }
  },
  "cells": [
    {
      "cell_type": "markdown",
      "metadata": {
        "id": "UYwdqBvyfX6X"
      },
      "source": [
        "#感情データのモデル作成及びテスト\n",
        "\n",
        "\n"
      ]
    },
    {
      "cell_type": "markdown",
      "metadata": {
        "id": "RekX7oFbUMWz"
      },
      "source": [
        "90分対策  \n",
        "F12を開いて以下のスクリプトをコンソールで実行  \n",
        "function KeepClicking(){\n",
        "console.log(\"Clicking\");\n",
        "document.querySelector(\"colab-connect-button\").click()\n",
        "}\n",
        "setInterval(KeepClicking,600000)\n",
        "\n",
        "  \n",
        "10分ごとに接続"
      ]
    },
    {
      "cell_type": "code",
      "metadata": {
        "colab": {
          "base_uri": "https://localhost:8080/"
        },
        "id": "q81SB1cPBTJZ",
        "outputId": "8dd5ae0b-2d38-433a-84e4-6e11e6679d93"
      },
      "source": [
        "import os\n",
        "import pandas as pd\n",
        "import numpy as np\n",
        "import matplotlib.pyplot as plt\n",
        "from keras import layers\n",
        "from keras import models\n",
        "from tensorflow.keras.layers import Activation, Conv2D, Dense, Dropout, Flatten, MaxPooling2D\n",
        "from keras import optimizers\n",
        "from keras.preprocessing.image import ImageDataGenerator\n",
        "from google.colab import drive \n",
        "drive.mount('/content/drive')"
      ],
      "execution_count": null,
      "outputs": [
        {
          "output_type": "stream",
          "name": "stdout",
          "text": [
            "Mounted at /content/drive\n"
          ]
        }
      ]
    },
    {
      "cell_type": "code",
      "metadata": {
        "id": "fGo2CxbVHGuX"
      },
      "source": [
        "base_dir = '/content/drive/MyDrive/data分析/Face Experience/'\n",
        "train_dir = os.path.join(base_dir, 'train')\n",
        "valid_dir = os.path.join(base_dir, 'valid')\n",
        "test_dir = os.path.join(base_dir, 'test')"
      ],
      "execution_count": null,
      "outputs": []
    },
    {
      "cell_type": "code",
      "metadata": {
        "id": "gQJioAgkdDhC"
      },
      "source": [
        "train_angry_dir = os.path.join(train_dir, 'angry')\n",
        "train_disgust_dir = os.path.join(train_dir, 'disgust')\n",
        "train_fear_dir = os.path.join(train_dir, 'fear')\n",
        "train_happy_dir = os.path.join(train_dir, 'happy')\n",
        "train_neutral_dir = os.path.join(train_dir, 'neutral')\n",
        "train_sad_dir = os.path.join(train_dir, 'sad')\n",
        "train_suprise_dir = os.path.join(train_dir, 'suprise')\n",
        "\n",
        "valid_angry_dir = os.path.join(valid_dir, 'angry')\n",
        "valid_disgust_dir = os.path.join(valid_dir, 'disgust')\n",
        "valid_fear_dir = os.path.join(valid_dir, 'fear')\n",
        "valid_happy_dir = os.path.join(valid_dir, 'happy')\n",
        "valid_neutral_dir = os.path.join(valid_dir, 'neutral')\n",
        "valid_sad_dir = os.path.join(valid_dir, 'sad')\n",
        "vaild_suprise_dir = os.path.join(valid_dir, 'suprise')\n",
        "\n",
        "test_angry_dir = os.path.join(test_dir, 'angry')\n",
        "test_disgust_dir = os.path.join(test_dir, 'disgust')\n",
        "test_fear_dir = os.path.join(test_dir, 'fear')\n",
        "test_happy_dir = os.path.join(test_dir, 'happy')\n",
        "test_neutral_dir = os.path.join(test_dir, 'neutral')\n",
        "test_sad_dir = os.path.join(test_dir, 'sad')\n",
        "test_suprise_dir = os.path.join(test_dir, 'suprise')\n"
      ],
      "execution_count": null,
      "outputs": []
    },
    {
      "cell_type": "markdown",
      "metadata": {
        "id": "toXucimtfzfU"
      },
      "source": [
        "##binaryとcategoricalの違い\n",
        "binaryは0か1かを判定するので2値判定するのに適している  \n",
        "categoricalは多クラス分類するのに適している  \n",
        "今回は2つの値を入手する必要があったためcategoricalを使用"
      ]
    },
    {
      "cell_type": "markdown",
      "metadata": {
        "id": "4xwBlcwlib63"
      },
      "source": [
        "##batch_size\n",
        "ミニバッチ学習に使われるバッチのサイズ  \n",
        "データの枚数で割り切れるように調整する必要がある  \n",
        "データの数=batch_size*epochs"
      ]
    },
    {
      "cell_type": "markdown",
      "metadata": {
        "id": "HY6g06rGkc5r"
      },
      "source": [
        "##その他\n",
        "rescaleは正規化のための仕組みでRGB(0~255)で読み込まれた各画素のRGB値を0から1に収まるように正規化\n",
        "  \n",
        "target_sizeでサイズ調整"
      ]
    },
    {
      "cell_type": "code",
      "metadata": {
        "colab": {
          "base_uri": "https://localhost:8080/"
        },
        "id": "3UrRMGa5dFDS",
        "outputId": "71034c1e-d381-48f0-e0e5-8eaccaf45b13"
      },
      "source": [
        "train_datagen = ImageDataGenerator(rescale = 1./255)\n",
        "test_datagen = ImageDataGenerator(rescale = 1./255)\n",
        "\n",
        "train_generator = train_datagen.flow_from_directory(\n",
        "    train_dir,\n",
        "    target_size = (48, 48),\n",
        "    batch_size = 2000,\n",
        "    class_mode = 'categorical'\n",
        ")\n",
        "\n",
        "validation_generator = test_datagen.flow_from_directory(\n",
        "    valid_dir,\n",
        "    target_size = (48, 48),\n",
        "    batch_size = 457,\n",
        "    class_mode = 'categorical'\n",
        ")"
      ],
      "execution_count": null,
      "outputs": [
        {
          "output_type": "stream",
          "name": "stdout",
          "text": [
            "Found 92975 images belonging to 7 classes.\n",
            "Found 17366 images belonging to 7 classes.\n"
          ]
        }
      ]
    },
    {
      "cell_type": "markdown",
      "metadata": {
        "id": "peeaWwgahBjT"
      },
      "source": [
        "92975 batch_size=3719,steps=25  \n",
        "17366 batch_size=457,steps=38"
      ]
    },
    {
      "cell_type": "markdown",
      "metadata": {
        "id": "oOXXdwZKxcp2"
      },
      "source": [
        "##モデル作成\n",
        "出力層はsigmoidとsoftmax  \n",
        "sigmoidは2値、softmaxは多クラスの時に使用  \n",
        "softmaxを使うとどの特徴にも当てはまらないものも高い数字が出る可能性がある  \n",
        "input_shape:横,縦,チャンネル数(今回はRGBなので3)  \n",
        "層を深くしすぎると表現力を失い一直線になる  \n",
        "Conv2D(16,(3,3)): 3*3の大きさのフィルタを16種類使用  \n",
        "activation='relu': Relu関数　0より大きい場合はそのまま、0未満は0  \n",
        "kernel_initializerで重みの初期化  \n",
        "Relu関数の場合はheの初期値を使うといいかも?\n",
        "\n",
        "\n"
      ]
    },
    {
      "cell_type": "code",
      "metadata": {
        "id": "H0Eukumz4Fxu"
      },
      "source": [
        "model = models.Sequential()\n",
        "model.add(layers.Conv2D(64, (3, 3), activation='relu', input_shape=(48, 48, 3),kernel_initializer='he_normal'))\n",
        "model.add(layers.Conv2D(64, (3, 3), activation='relu',kernel_initializer='he_normal'))\n",
        "model.add(layers.MaxPooling2D((2, 2)))\n",
        "model.add(layers.Conv2D(128, (3, 3), activation='relu',kernel_initializer='he_normal'))\n",
        "model.add(layers.Conv2D(128, (3, 3), activation='relu',kernel_initializer='he_normal'))\n",
        "model.add(layers.Conv2D(128, (3, 3), activation='relu',kernel_initializer='he_normal'))\n",
        "model.add(layers.MaxPooling2D((2, 2)))\n",
        "model.add(layers.Conv2D(256, (3, 3), activation='relu',kernel_initializer='he_normal'))\n",
        "model.add(layers.Conv2D(256, (3, 3), activation='relu',kernel_initializer='he_normal'))\n",
        "model.add(layers.MaxPooling2D((2, 2)))\n",
        "model.add(layers.Flatten())\n",
        "model.add(layers.Dense(1024, activation='relu',kernel_initializer='he_normal'))\n",
        "model.add(layers.Dense(25, activation='relu',kernel_initializer='he_normal'))\n",
        "model.add(layers.Dense(7, activation='softmax')) "
      ],
      "execution_count": null,
      "outputs": []
    },
    {
      "cell_type": "code",
      "metadata": {
        "colab": {
          "base_uri": "https://localhost:8080/"
        },
        "id": "FdzSXA7lijLs",
        "outputId": "307560ce-6ded-4561-c0a3-4d018f07a68f"
      },
      "source": [
        "model.summary()"
      ],
      "execution_count": null,
      "outputs": [
        {
          "name": "stdout",
          "output_type": "stream",
          "text": [
            "Model: \"sequential\"\n",
            "_________________________________________________________________\n",
            "Layer (type)                 Output Shape              Param #   \n",
            "=================================================================\n",
            "conv2d (Conv2D)              (None, 46, 46, 64)        1792      \n",
            "_________________________________________________________________\n",
            "conv2d_1 (Conv2D)            (None, 44, 44, 64)        36928     \n",
            "_________________________________________________________________\n",
            "max_pooling2d (MaxPooling2D) (None, 22, 22, 64)        0         \n",
            "_________________________________________________________________\n",
            "conv2d_2 (Conv2D)            (None, 20, 20, 128)       73856     \n",
            "_________________________________________________________________\n",
            "conv2d_3 (Conv2D)            (None, 18, 18, 128)       147584    \n",
            "_________________________________________________________________\n",
            "conv2d_4 (Conv2D)            (None, 16, 16, 128)       147584    \n",
            "_________________________________________________________________\n",
            "max_pooling2d_1 (MaxPooling2 (None, 8, 8, 128)         0         \n",
            "_________________________________________________________________\n",
            "conv2d_5 (Conv2D)            (None, 6, 6, 256)         295168    \n",
            "_________________________________________________________________\n",
            "conv2d_6 (Conv2D)            (None, 4, 4, 256)         590080    \n",
            "_________________________________________________________________\n",
            "max_pooling2d_2 (MaxPooling2 (None, 2, 2, 256)         0         \n",
            "_________________________________________________________________\n",
            "flatten (Flatten)            (None, 1024)              0         \n",
            "_________________________________________________________________\n",
            "dense (Dense)                (None, 1024)              1049600   \n",
            "_________________________________________________________________\n",
            "dense_1 (Dense)              (None, 25)                25625     \n",
            "_________________________________________________________________\n",
            "dense_2 (Dense)              (None, 7)                 182       \n",
            "=================================================================\n",
            "Total params: 2,368,399\n",
            "Trainable params: 2,368,399\n",
            "Non-trainable params: 0\n",
            "_________________________________________________________________\n"
          ]
        }
      ]
    },
    {
      "cell_type": "markdown",
      "metadata": {
        "id": "xu1Rv5t0eKnl"
      },
      "source": [
        "##Adam\n",
        "MomentumとAdaGradを融合したような手法"
      ]
    },
    {
      "cell_type": "code",
      "metadata": {
        "id": "LYW1tIWwlXQG"
      },
      "source": [
        "from tensorflow.keras.optimizers import Adam\n",
        "adam = Adam(learning_rate=1e-4)\n",
        "model.compile(optimizer=adam,\n",
        "              loss='categorical_crossentropy',\n",
        "              metrics=['accuracy'])"
      ],
      "execution_count": null,
      "outputs": []
    },
    {
      "cell_type": "markdown",
      "metadata": {
        "id": "UPdwBuMr54lO"
      },
      "source": [
        "モデルを保存　再利用するときに便利"
      ]
    },
    {
      "cell_type": "code",
      "metadata": {
        "id": "9JCLshDfXa8Q"
      },
      "source": [
        "model.save('/content/drive/MyDrive/data分析/Face Experience/facemodel1.h5')"
      ],
      "execution_count": null,
      "outputs": []
    },
    {
      "cell_type": "code",
      "metadata": {
        "colab": {
          "base_uri": "https://localhost:8080/"
        },
        "id": "hPUxsx4EFGK8",
        "outputId": "2cec0eea-e9d6-4beb-ed44-a5acd352cc7c"
      },
      "source": [
        "history = model.fit_generator(train_generator,\n",
        "                              steps_per_epoch=46,\n",
        "                              epochs=5,\n",
        "                              validation_data=validation_generator,\n",
        "                              validation_steps=38)"
      ],
      "execution_count": null,
      "outputs": [
        {
          "name": "stderr",
          "output_type": "stream",
          "text": [
            "/usr/local/lib/python3.7/dist-packages/keras/engine/training.py:1972: UserWarning: `Model.fit_generator` is deprecated and will be removed in a future version. Please use `Model.fit`, which supports generators.\n",
            "  warnings.warn('`Model.fit_generator` is deprecated and '\n"
          ]
        },
        {
          "name": "stdout",
          "output_type": "stream",
          "text": [
            "Epoch 1/5\n",
            "46/46 [==============================] - 21267s 463s/step - loss: 1.7149 - accuracy: 0.3419 - val_loss: 1.6393 - val_accuracy: 0.3643\n",
            "Epoch 2/5\n",
            "46/46 [==============================] - 3009s 65s/step - loss: 1.5782 - accuracy: 0.4138 - val_loss: 1.6021 - val_accuracy: 0.3860\n",
            "Epoch 3/5\n",
            "46/46 [==============================] - 3027s 66s/step - loss: 1.5086 - accuracy: 0.4494 - val_loss: 1.5767 - val_accuracy: 0.3858\n",
            "Epoch 4/5\n",
            "46/46 [==============================] - 3038s 66s/step - loss: 1.4409 - accuracy: 0.4837 - val_loss: 1.5499 - val_accuracy: 0.4256\n",
            "Epoch 5/5\n",
            "46/46 [==============================] - 3020s 66s/step - loss: 1.3899 - accuracy: 0.5098 - val_loss: 1.5251 - val_accuracy: 0.4369\n"
          ]
        }
      ]
    },
    {
      "cell_type": "code",
      "metadata": {
        "id": "JuY8GVVmFMo7"
      },
      "source": [
        "model.save('/content/drive/MyDrive/data分析/Face Experience/faceweightepoch5.h5')"
      ],
      "execution_count": null,
      "outputs": []
    },
    {
      "cell_type": "code",
      "metadata": {
        "id": "WA-9Umm6BFSp"
      },
      "source": [
        "#model2=models.load_model('/content/drive/MyDrive/data分析/Face Experience/facemodel1.h5')\n",
        "model.load_weights('/content/drive/MyDrive/data分析/Face Experience/faceweightepoch5.h5')"
      ],
      "execution_count": null,
      "outputs": []
    },
    {
      "cell_type": "code",
      "metadata": {
        "id": "qRFBHQmWB3sO"
      },
      "source": [
        "#from tensorflow.keras.optimizers import Adam\n",
        "#adam = Adam(learning_rate=1e-4)\n",
        "model2.compile(optimizer=adam,\n",
        "              loss='categorical_crossentropy',\n",
        "              metrics=['accuracy'])"
      ],
      "execution_count": null,
      "outputs": []
    },
    {
      "cell_type": "code",
      "metadata": {
        "colab": {
          "base_uri": "https://localhost:8080/"
        },
        "id": "BCPWh4WEwSJ2",
        "outputId": "0ca83311-00bd-4045-c0ab-1b6cf9f44ccc"
      },
      "source": [
        "from keras.callbacks import ModelCheckpoint\n",
        "modelCheckpoint = ModelCheckpoint(filepath ='/content/drive/MyDrive/data分析/Face Experience/faceweightepoch10.h5',\n",
        "                                  monitor='loss',\n",
        "                                  verbose=1,\n",
        "                                  save_best_only=True,\n",
        "                                  save_weights_only=False,\n",
        "                                  mode='min',\n",
        "                                  period=1)"
      ],
      "execution_count": null,
      "outputs": [
        {
          "output_type": "stream",
          "name": "stdout",
          "text": [
            "WARNING:tensorflow:`period` argument is deprecated. Please use `save_freq` to specify the frequency in number of batches seen.\n"
          ]
        }
      ]
    },
    {
      "cell_type": "code",
      "metadata": {
        "colab": {
          "base_uri": "https://localhost:8080/"
        },
        "id": "qCebtJv8i6ai",
        "outputId": "8a8457cc-9754-476d-bddc-66372fd1e4ea"
      },
      "source": [
        "history2 = model.fit_generator(train_generator,\n",
        "                              steps_per_epoch=46,\n",
        "                              epochs=5,\n",
        "                              verbose=1,\n",
        "                              validation_data=validation_generator,\n",
        "                              validation_steps=38,\n",
        "                              callbacks=[modelCheckpoint])"
      ],
      "execution_count": null,
      "outputs": [
        {
          "output_type": "stream",
          "name": "stderr",
          "text": [
            "/usr/local/lib/python3.7/dist-packages/keras/engine/training.py:1972: UserWarning: `Model.fit_generator` is deprecated and will be removed in a future version. Please use `Model.fit`, which supports generators.\n",
            "  warnings.warn('`Model.fit_generator` is deprecated and '\n"
          ]
        },
        {
          "output_type": "stream",
          "name": "stdout",
          "text": [
            "Epoch 1/5\n",
            "46/46 [==============================] - 24489s 533s/step - loss: 1.5471 - accuracy: 0.4442 - val_loss: 1.5402 - val_accuracy: 0.4275\n",
            "\n",
            "Epoch 00001: val_loss improved from inf to 1.54022, saving model to /content/drive/MyDrive/data分析/Face Experience/faceweightepoch10.h5\n",
            "Epoch 2/5\n",
            "46/46 [==============================] - 2740s 59s/step - loss: 1.3444 - accuracy: 0.5246 - val_loss: 1.5110 - val_accuracy: 0.4471\n",
            "\n",
            "Epoch 00002: val_loss improved from 1.54022 to 1.51104, saving model to /content/drive/MyDrive/data分析/Face Experience/faceweightepoch10.h5\n",
            "Epoch 3/5\n",
            "46/46 [==============================] - 2728s 59s/step - loss: 1.3045 - accuracy: 0.5399 - val_loss: 1.5844 - val_accuracy: 0.4270\n",
            "\n",
            "Epoch 00003: val_loss did not improve from 1.51104\n",
            "Epoch 4/5\n",
            "46/46 [==============================] - 2743s 59s/step - loss: 1.2716 - accuracy: 0.5529 - val_loss: 1.5039 - val_accuracy: 0.4526\n",
            "\n",
            "Epoch 00004: val_loss improved from 1.51104 to 1.50385, saving model to /content/drive/MyDrive/data分析/Face Experience/faceweightepoch10.h5\n",
            "Epoch 5/5\n",
            "46/46 [==============================] - 2724s 59s/step - loss: 1.2408 - accuracy: 0.5632 - val_loss: 1.4988 - val_accuracy: 0.4504\n",
            "\n",
            "Epoch 00005: val_loss improved from 1.50385 to 1.49879, saving model to /content/drive/MyDrive/data分析/Face Experience/faceweightepoch10.h5\n"
          ]
        }
      ]
    },
    {
      "cell_type": "code",
      "metadata": {
        "colab": {
          "base_uri": "https://localhost:8080/"
        },
        "id": "M4vYXgeqCvMo",
        "outputId": "0b51dfe0-4b4f-4bfd-98ac-606ed496bf98"
      },
      "source": [
        "history3 = model.fit_generator(train_generator,\n",
        "                              steps_per_epoch=46,\n",
        "                              epochs=5,\n",
        "                              verbose=1,\n",
        "                              validation_data=validation_generator,\n",
        "                              validation_steps=38,\n",
        "                              callbacks=[modelCheckpoint])"
      ],
      "execution_count": null,
      "outputs": [
        {
          "output_type": "stream",
          "name": "stderr",
          "text": [
            "/usr/local/lib/python3.7/dist-packages/keras/engine/training.py:1972: UserWarning: `Model.fit_generator` is deprecated and will be removed in a future version. Please use `Model.fit`, which supports generators.\n",
            "  warnings.warn('`Model.fit_generator` is deprecated and '\n"
          ]
        },
        {
          "output_type": "stream",
          "name": "stdout",
          "text": [
            "Epoch 1/5\n",
            "46/46 [==============================] - 2727s 59s/step - loss: 1.2088 - accuracy: 0.5743 - val_loss: 1.4647 - val_accuracy: 0.4592\n",
            "\n",
            "Epoch 00001: loss improved from inf to 1.20875, saving model to /content/drive/MyDrive/data分析/Face Experience/faceweightepoch10.h5\n",
            "Epoch 2/5\n",
            "46/46 [==============================] - 2740s 59s/step - loss: 1.1845 - accuracy: 0.5826 - val_loss: 1.5255 - val_accuracy: 0.4554\n",
            "\n",
            "Epoch 00002: loss improved from 1.20875 to 1.18455, saving model to /content/drive/MyDrive/data分析/Face Experience/faceweightepoch10.h5\n",
            "Epoch 3/5\n",
            "27/46 [================>.............] - ETA: 17:42 - loss: 1.1660 - accuracy: 0.5886"
          ]
        }
      ]
    },
    {
      "cell_type": "markdown",
      "metadata": {
        "id": "Ea24ZPMp5wmP"
      },
      "source": [
        "重みを保存　再利用するときに便利\n"
      ]
    },
    {
      "cell_type": "code",
      "metadata": {
        "colab": {
          "background_save": true
        },
        "id": "1EzfDOzAj4b1",
        "outputId": "b92073bc-ffd2-487c-a92b-9559f4a85af9"
      },
      "source": [
        "model.save('/content/drive/MyDrive/data分析/Face Experience/faceweightepoch10.h5')"
      ],
      "execution_count": null,
      "outputs": [
        {
          "ename": "NameError",
          "evalue": "ignored",
          "output_type": "error",
          "traceback": [
            "\u001b[0;31m---------------------------------------------------------------------------\u001b[0m",
            "\u001b[0;31mNameError\u001b[0m                                 Traceback (most recent call last)",
            "\u001b[0;32m<ipython-input-1-d8cee1ede8d0>\u001b[0m in \u001b[0;36m<module>\u001b[0;34m()\u001b[0m\n\u001b[0;32m----> 1\u001b[0;31m \u001b[0mmodel2\u001b[0m\u001b[0;34m.\u001b[0m\u001b[0msave\u001b[0m\u001b[0;34m(\u001b[0m\u001b[0;34m'/content/drive/MyDrive/data分析/Face Experience/faceweightepoch10.h5'\u001b[0m\u001b[0;34m)\u001b[0m\u001b[0;34m\u001b[0m\u001b[0;34m\u001b[0m\u001b[0m\n\u001b[0m",
            "\u001b[0;31mNameError\u001b[0m: name 'model2' is not defined"
          ]
        }
      ]
    },
    {
      "cell_type": "code",
      "metadata": {
        "colab": {
          "base_uri": "https://localhost:8080/",
          "height": 281
        },
        "id": "2y3JH9BJj-mq",
        "outputId": "5286fa3d-96d4-462d-d9b1-692b24ec4d62"
      },
      "source": [
        "acc = history.history['accuracy']\n",
        "val_acc = history.history['val_accuracy']\n",
        "loss = history.history['loss']\n",
        "val_loss = history.history['val_loss']\n",
        "\n",
        "epochs = range(1, len(acc) + 1)\n",
        "\n",
        "plt.plot(epochs, acc, 'bo', label='Training acc')\n",
        "plt.plot(epochs, val_acc, 'b', label='Validation acc')\n",
        "plt.title('Training and Validation accuracy')\n",
        "plt.legend()\n",
        "plt.savefig('/content/drive/MyDrive/data分析/Face Experience/accuracy1.png')\n",
        "plt.show()\n",
        "plt.close()"
      ],
      "execution_count": null,
      "outputs": [
        {
          "data": {
            "image/png": "[encoded data removed]",
            "text/plain": [
              "<Figure size 432x288 with 1 Axes>"
            ]
          },
          "metadata": {},
          "output_type": "display_data"
        }
      ]
    },
    {
      "cell_type": "code",
      "metadata": {
        "id": "pv437yggkzuD"
      },
      "source": [
        "plt.plot(epochs, loss, 'bo', label='Training loss')\n",
        "plt.plot(epochs, val_loss, 'b', label='Validation loss')\n",
        "plt.title('Training and Validation loss')\n",
        "plt.legend()\n",
        "plt.savefig('/content/drive/MyDrive/data分析/Face Experience/loss1.png')\n",
        "plt.show()\n",
        "plt.close()"
      ],
      "execution_count": null,
      "outputs": []
    },
    {
      "cell_type": "code",
      "metadata": {
        "id": "LZsDvNq8Rm6K"
      },
      "source": [
        "hist_df = pd.DataFrame(history.history)\n",
        "hist_df.to_csv('/content/drive/MyDrive/data分析/Face Experience/history1.csv')"
      ],
      "execution_count": null,
      "outputs": []
    },
    {
      "cell_type": "code",
      "metadata": {
        "id": "Km4NMMlGSGQL"
      },
      "source": [
        "hist_df"
      ],
      "execution_count": null,
      "outputs": []
    },
    {
      "cell_type": "markdown",
      "metadata": {
        "id": "7XnLjSWrkDF4"
      },
      "source": [
        "## 補足\n",
        "ハイパーパラメータチューニング"
      ]
    },
    {
      "cell_type": "code",
      "metadata": {
        "id": "tsX_hjXHWQYf"
      },
      "source": [
        "# モデルと重みの読み込み\n",
        "model2=models.load_model('/content/drive/MyDrive/data分析/Face Experience/facemodel1.h5')\n",
        "model2.load_weights('/content/drive/MyDrive/data分析/Face Experience/faceweightepoch10.h5')"
      ],
      "execution_count": null,
      "outputs": []
    },
    {
      "cell_type": "code",
      "metadata": {
        "colab": {
          "base_uri": "https://localhost:8080/"
        },
        "id": "kqTqANZAWZzJ",
        "outputId": "4b8bfb4c-26db-45cb-bc5b-2c2a081a5bfc"
      },
      "source": [
        "test_datagen = ImageDataGenerator(rescale = 1./255)\n",
        "test_generater = test_datagen.flow_from_directory(\n",
        "    test_dir,\n",
        "    target_size =  (48, 48),\n",
        "    batch_size = 3863,\n",
        "    class_mode = 'categorical'\n",
        ")"
      ],
      "execution_count": null,
      "outputs": [
        {
          "output_type": "stream",
          "name": "stdout",
          "text": [
            "Found 15452 images belonging to 7 classes.\n"
          ]
        }
      ]
    },
    {
      "cell_type": "markdown",
      "metadata": {
        "id": "dq8s7fphbQid"
      },
      "source": [
        "4と3863\n",
        "309と50"
      ]
    },
    {
      "cell_type": "code",
      "metadata": {
        "colab": {
          "base_uri": "https://localhost:8080/"
        },
        "id": "f-zQYybUXbRc",
        "outputId": "0494d9cf-d59e-4052-9981-3c7c0b8fbecf"
      },
      "source": [
        "test_loss, test_acc = model2.evaluate_generator(test_generater, steps=50)\n",
        "print('test acc:', test_acc)\n",
        "print('test loss', test_loss)"
      ],
      "execution_count": null,
      "outputs": [
        {
          "output_type": "stream",
          "name": "stderr",
          "text": [
            "/usr/local/lib/python3.7/dist-packages/keras/engine/training.py:2006: UserWarning: `Model.evaluate_generator` is deprecated and will be removed in a future version. Please use `Model.evaluate`, which supports generators.\n",
            "  warnings.warn('`Model.evaluate_generator` is deprecated and '\n"
          ]
        },
        {
          "output_type": "stream",
          "name": "stdout",
          "text": [
            "test acc: 0.503365695476532\n",
            "test loss 1.4044370651245117\n"
          ]
        }
      ]
    },
    {
      "cell_type": "code",
      "metadata": {
        "colab": {
          "base_uri": "https://localhost:8080/",
          "height": 662
        },
        "id": "XkvUY5xPLxFY",
        "outputId": "672719c3-da91-4a96-a13d-27bd69d2fe74"
      },
      "source": [
        "from sklearn.metrics import confusion_matrix, ConfusionMatrixDisplay\n",
        "Y_pred = model2.predict_generator(test_generater, 4)\n",
        "y_pred = np.argmax(Y_pred, axis=1)\n",
        "labels = [\"Angry\", \"Disgust\", \"Fear\", \"Happy\", \"Neutral\", \"Sad\", \"Surprise\"]\n",
        "print(\"Confusion Matrix\")\n",
        "# confusion matrixの作成\n",
        "cm = confusion_matrix(test_generater.classes, y_pred)\n",
        "#表示\n",
        "cmd = ConfusionMatrixDisplay(confusion_matrix=cm, display_labels=labels)\n",
        "fig, ax = plt.subplots(figsize=(10, 10))\n",
        "cmd.plot(ax=ax, cmap=\"Blues\")"
      ],
      "execution_count": null,
      "outputs": [
        {
          "output_type": "stream",
          "name": "stderr",
          "text": [
            "/usr/local/lib/python3.7/dist-packages/keras/engine/training.py:2035: UserWarning: `Model.predict_generator` is deprecated and will be removed in a future version. Please use `Model.predict`, which supports generators.\n",
            "  warnings.warn('`Model.predict_generator` is deprecated and '\n"
          ]
        },
        {
          "output_type": "stream",
          "name": "stdout",
          "text": [
            "Confusion Matrix\n"
          ]
        },
        {
          "output_type": "execute_result",
          "data": {
            "text/plain": [
              "<sklearn.metrics._plot.confusion_matrix.ConfusionMatrixDisplay at 0x7f56f49f9190>"
            ]
          },
          "metadata": {},
          "execution_count": 15
        },
        {
          "output_type": "display_data",
          "data": {
            "image/png": "[encoded data removed]",
            "text/plain": [
              "<Figure size 720x720 with 2 Axes>"
            ]
          },
          "metadata": {
            "needs_background": "light"
          }
        }
      ]
    },
    {
      "cell_type": "code",
      "metadata": {
        "id": "P46hAWXbL2nK",
        "colab": {
          "base_uri": "https://localhost:8080/"
        },
        "outputId": "894042e6-aa77-435d-d79e-8a2c3fbbba33"
      },
      "source": [
        "import numpy as np\n",
        "from sklearn import metrics\n",
        "classes = [\"Angry\", \"Disgust\", \"Fear\", \"Happy\", \"Neutral\", \"Sad\", \"Surprise\"]\n",
        "test_datagen = ImageDataGenerator(rescale=1.0 / 255)\n",
        "test_generator = test_datagen.flow_from_directory(directory=test_dir,\n",
        "                                                  target_size=(48, 48),\n",
        "                                                  color_mode='rgb',\n",
        "                                                  class_mode='categorical',\n",
        "                                                  batch_size=3863,\n",
        "                                                  shuffle=False)\n",
        "\n"
      ],
      "execution_count": null,
      "outputs": [
        {
          "output_type": "stream",
          "name": "stdout",
          "text": [
            "Found 15452 images belonging to 7 classes.\n"
          ]
        }
      ]
    },
    {
      "cell_type": "code",
      "metadata": {
        "colab": {
          "base_uri": "https://localhost:8080/"
        },
        "id": "TIaM3dQ3zBvf",
        "outputId": "5161f7a5-8da8-4f9d-e528-4d085a58e6c5"
      },
      "source": [
        "test_steps_per_Epoch = np.math.ceil(test_generator.samples / test_generator.batch_size)\n",
        "#test_steps_per_Epoch=4\n",
        "predictions = model2.predict_generator(test_generator, steps=test_steps_per_Epoch)\n",
        "# Get most likely class\n",
        "predicted_classes = np.argmax(predictions, axis=1)\n",
        "# Ground-Truthクラスとクラスラベルを取得する\n",
        "true_classes = test_generator.classes\n",
        "class_labels = list(test_generator.class_indices.keys())\n",
        "\n",
        "# scikit-learnを使用して統計を取得する\n",
        "report = metrics.classification_report(true_classes,predicted_classes, \n",
        "                                       labels=np.arange(len(classes)),\n",
        "                                       target_names=classes)\n",
        "print(report)"
      ],
      "execution_count": null,
      "outputs": [
        {
          "output_type": "stream",
          "name": "stderr",
          "text": [
            "/usr/local/lib/python3.7/dist-packages/keras/engine/training.py:2035: UserWarning: `Model.predict_generator` is deprecated and will be removed in a future version. Please use `Model.predict`, which supports generators.\n",
            "  warnings.warn('`Model.predict_generator` is deprecated and '\n"
          ]
        },
        {
          "output_type": "stream",
          "name": "stdout",
          "text": [
            "              precision    recall  f1-score   support\n",
            "\n",
            "       Angry       0.49      0.13      0.20      1041\n",
            "     Disgust       0.10      0.00      0.01       655\n",
            "        Fear       0.28      0.11      0.15       691\n",
            "       Happy       0.61      0.44      0.51      3554\n",
            "     Neutral       0.52      0.85      0.64      5859\n",
            "         Sad       0.34      0.19      0.24      2177\n",
            "    Surprise       0.43      0.43      0.43      1475\n",
            "\n",
            "    accuracy                           0.50     15452\n",
            "   macro avg       0.39      0.31      0.31     15452\n",
            "weighted avg       0.47      0.50      0.46     15452\n",
            "\n"
          ]
        }
      ]
    }
  ]
}