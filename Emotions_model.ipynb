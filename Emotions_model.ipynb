{
  "nbformat": 4,
  "nbformat_minor": 0,
  "metadata": {
    "colab": {
      "name": "Emotions model.ipynb",
      "provenance": [],
      "collapsed_sections": []
    },
    "kernelspec": {
      "display_name": "Python 3",
      "name": "python3"
    },
    "language_info": {
      "name": "python"
    },
    "accelerator": "TPU"
  },
  "cells": [
    {
      "cell_type": "markdown",
      "metadata": {
        "id": "UYwdqBvyfX6X"
      },
      "source": [
        "#感情データのモデル作成及びテスト\n",
        "\n",
        "\n"
      ]
    },
    {
      "cell_type": "markdown",
      "metadata": {
        "id": "RekX7oFbUMWz"
      },
      "source": [
        "90分対策  \n",
        "F12を開いて以下のスクリプトをコンソールで実行  \n",
        "function KeepClicking(){\n",
        "console.log(\"Clicking\");\n",
        "document.querySelector(\"colab-connect-button\").click()\n",
        "}\n",
        "setInterval(KeepClicking,60000)\n",
        "\n",
        "  \n",
        "60秒ごとに接続"
      ]
    },
    {
      "cell_type": "code",
      "metadata": {
        "id": "q81SB1cPBTJZ",
        "colab": {
          "base_uri": "https://localhost:8080/"
        },
        "outputId": "8fec6ca3-ba38-439e-ddd3-fa1551f0e454"
      },
      "source": [
        "import os\n",
        "import pandas as pd\n",
        "import numpy as np\n",
        "import matplotlib.pyplot as plt\n",
        "from keras import layers\n",
        "from keras import models\n",
        "from keras import optimizers\n",
        "from keras.preprocessing.image import ImageDataGenerator\n",
        "from google.colab import drive \n",
        "drive.mount('/content/drive')"
      ],
      "execution_count": null,
      "outputs": [
        {
          "output_type": "stream",
          "name": "stdout",
          "text": [
            "Mounted at /content/drive\n"
          ]
        }
      ]
    },
    {
      "cell_type": "code",
      "metadata": {
        "id": "fGo2CxbVHGuX"
      },
      "source": [
        "base_dir = '/content/drive/MyDrive/data分析/Face Experience/'\n",
        "train_dir = os.path.join(base_dir, 'train')\n",
        "valid_dir = os.path.join(base_dir, 'valid')\n",
        "test_dir = os.path.join(base_dir, 'test')"
      ],
      "execution_count": null,
      "outputs": []
    },
    {
      "cell_type": "code",
      "metadata": {
        "id": "gQJioAgkdDhC"
      },
      "source": [
        "train_angry_dir = os.path.join(train_dir, 'angry')\n",
        "train_disgust_dir = os.path.join(train_dir, 'disgust')\n",
        "train_fear_dir = os.path.join(train_dir, 'fear')\n",
        "train_happy_dir = os.path.join(train_dir, 'happy')\n",
        "train_neutral_dir = os.path.join(train_dir, 'neutral')\n",
        "train_sad_dir = os.path.join(train_dir, 'sad')\n",
        "train_suprise_dir = os.path.join(train_dir, 'suprise')\n",
        "\n",
        "valid_angry_dir = os.path.join(valid_dir, 'angry')\n",
        "valid_disgust_dir = os.path.join(valid_dir, 'disgust')\n",
        "valid_fear_dir = os.path.join(valid_dir, 'fear')\n",
        "valid_happy_dir = os.path.join(valid_dir, 'happy')\n",
        "valid_neutral_dir = os.path.join(valid_dir, 'neutral')\n",
        "valid_sad_dir = os.path.join(valid_dir, 'sad')\n",
        "vaild_suprise_dir = os.path.join(valid_dir, 'suprise')\n",
        "\n",
        "test_angry_dir = os.path.join(test_dir, 'angry')\n",
        "test_disgust_dir = os.path.join(test_dir, 'disgust')\n",
        "test_fear_dir = os.path.join(test_dir, 'fear')\n",
        "test_happy_dir = os.path.join(test_dir, 'happy')\n",
        "test_neutral_dir = os.path.join(test_dir, 'neutral')\n",
        "test_sad_dir = os.path.join(test_dir, 'sad')\n",
        "test_suprise_dir = os.path.join(test_dir, 'suprise')\n"
      ],
      "execution_count": null,
      "outputs": []
    },
    {
      "cell_type": "markdown",
      "metadata": {
        "id": "toXucimtfzfU"
      },
      "source": [
        "##binaryとcategoricalの違い\n",
        "binaryは0か1かを判定するので2値判定するのに適している  \n",
        "categoricalは多クラス分類するのに適している  \n",
        "今回は2つの値を入手する必要があったためcategoricalを使用"
      ]
    },
    {
      "cell_type": "markdown",
      "metadata": {
        "id": "4xwBlcwlib63"
      },
      "source": [
        "##batch_size\n",
        "ミニバッチ学習に使われるバッチのサイズ  \n",
        "データの枚数で割り切れるように調整する必要がある  \n",
        "データの数=batch_size*epochs"
      ]
    },
    {
      "cell_type": "markdown",
      "metadata": {
        "id": "HY6g06rGkc5r"
      },
      "source": [
        "##その他\n",
        "rescaleは正規化のための仕組みでRGB(0~255)で読み込まれた各画素のRGB値を0から1に収まるように正規化\n",
        "  \n",
        "target_sizeでサイズ調整"
      ]
    },
    {
      "cell_type": "code",
      "metadata": {
        "id": "3UrRMGa5dFDS",
        "colab": {
          "base_uri": "https://localhost:8080/"
        },
        "outputId": "c6a07a26-8a30-4b88-c9ae-5ae86f2d5388"
      },
      "source": [
        "train_datagen = ImageDataGenerator(rescale = 1./255)\n",
        "test_datagen = ImageDataGenerator(rescale = 1./255)\n",
        "\n",
        "train_generator = train_datagen.flow_from_directory(\n",
        "    train_dir,\n",
        "    target_size = (48, 48),\n",
        "    batch_size = 3719,\n",
        "    class_mode = 'categorical'\n",
        ")\n",
        "\n",
        "validation_generator = test_datagen.flow_from_directory(\n",
        "    valid_dir,\n",
        "    target_size = (48, 48),\n",
        "    batch_size = 457,\n",
        "    class_mode = 'categorical'\n",
        ")"
      ],
      "execution_count": null,
      "outputs": [
        {
          "output_type": "stream",
          "name": "stdout",
          "text": [
            "Found 92975 images belonging to 7 classes.\n",
            "Found 17366 images belonging to 7 classes.\n"
          ]
        }
      ]
    },
    {
      "cell_type": "markdown",
      "metadata": {
        "id": "oOXXdwZKxcp2"
      },
      "source": [
        "##モデル作成\n",
        "出力層はsigmoidとsoftmax  \n",
        "softmaxを使うとどの特徴にも当てはまらないものも高い数字が出る可能性がある  \n",
        "input_shape:横,縦,チャンネル数(今回はRGBなので3)  \n",
        "層を深くしすぎると表現力を失い一直線になる  \n",
        "Conv2D(16,(3,3)): 3*3の大きさのフィルタを16種類使用  \n",
        "activation='relu': Relu関数　0より大きい場合はそのまま、0未満は0  \n",
        "kernel_initializerで重みの初期化  \n",
        "Relu関数の場合はheの初期値を使うといいかも?\n",
        "\n",
        "\n"
      ]
    },
    {
      "cell_type": "code",
      "metadata": {
        "id": "H0Eukumz4Fxu"
      },
      "source": [
        "model = models.Sequential()\n",
        "model.add(layers.Conv2D(16, (3, 3), activation='relu', input_shape=(48, 48, 3),kernel_initializer='he_normal'))\n",
        "model.add(layers.Conv2D(16, (3, 3), activation='relu',kernel_initializer='he_normal'))\n",
        "model.add(layers.MaxPooling2D((2, 2)))\n",
        "model.add(layers.Conv2D(32, (3, 3), activation='relu',kernel_initializer='he_normal'))\n",
        "model.add(layers.MaxPooling2D((2, 2)))\n",
        "model.add(layers.Flatten())\n",
        "model.add(layers.Dense(512, activation='relu',kernel_initializer='he_normal'))\n",
        "model.add(layers.Dense(256, activation='relu',kernel_initializer='he_normal'))\n",
        "model.add(layers.Dense(7, activation='sigmoid')) "
      ],
      "execution_count": null,
      "outputs": []
    },
    {
      "cell_type": "code",
      "metadata": {
        "id": "FdzSXA7lijLs",
        "colab": {
          "base_uri": "https://localhost:8080/"
        },
        "outputId": "e5b5090c-54bc-495b-a5db-bc4ea7a78082"
      },
      "source": [
        "model.summary()"
      ],
      "execution_count": null,
      "outputs": [
        {
          "output_type": "stream",
          "name": "stdout",
          "text": [
            "Model: \"sequential\"\n",
            "_________________________________________________________________\n",
            "Layer (type)                 Output Shape              Param #   \n",
            "=================================================================\n",
            "conv2d (Conv2D)              (None, 46, 46, 16)        448       \n",
            "_________________________________________________________________\n",
            "conv2d_1 (Conv2D)            (None, 44, 44, 16)        2320      \n",
            "_________________________________________________________________\n",
            "max_pooling2d (MaxPooling2D) (None, 22, 22, 16)        0         \n",
            "_________________________________________________________________\n",
            "conv2d_2 (Conv2D)            (None, 20, 20, 32)        4640      \n",
            "_________________________________________________________________\n",
            "max_pooling2d_1 (MaxPooling2 (None, 10, 10, 32)        0         \n",
            "_________________________________________________________________\n",
            "flatten (Flatten)            (None, 3200)              0         \n",
            "_________________________________________________________________\n",
            "dense (Dense)                (None, 512)               1638912   \n",
            "_________________________________________________________________\n",
            "dense_1 (Dense)              (None, 256)               131328    \n",
            "_________________________________________________________________\n",
            "dense_2 (Dense)              (None, 7)                 1799      \n",
            "=================================================================\n",
            "Total params: 1,779,447\n",
            "Trainable params: 1,779,447\n",
            "Non-trainable params: 0\n",
            "_________________________________________________________________\n"
          ]
        }
      ]
    },
    {
      "cell_type": "markdown",
      "metadata": {
        "id": "xu1Rv5t0eKnl"
      },
      "source": [
        "##Adam\n",
        "MomentumとAdaGradを融合したような手法"
      ]
    },
    {
      "cell_type": "code",
      "metadata": {
        "id": "LYW1tIWwlXQG"
      },
      "source": [
        "from tensorflow.keras.optimizers import Adam\n",
        "adam = Adam(learning_rate=1e-4)\n",
        "model.compile(optimizer=adam,\n",
        "              loss='categorical_crossentropy',\n",
        "              metrics=['accuracy'])"
      ],
      "execution_count": null,
      "outputs": []
    },
    {
      "cell_type": "markdown",
      "metadata": {
        "id": "UPdwBuMr54lO"
      },
      "source": [
        "モデルを保存　再利用するときに便利"
      ]
    },
    {
      "cell_type": "code",
      "metadata": {
        "id": "9JCLshDfXa8Q"
      },
      "source": [
        "model.save('/content/drive/MyDrive/data分析/Face Experience/facemodel2.h5')"
      ],
      "execution_count": null,
      "outputs": []
    },
    {
      "cell_type": "code",
      "metadata": {
        "id": "qCebtJv8i6ai",
        "colab": {
          "base_uri": "https://localhost:8080/"
        },
        "outputId": "53e7b6c6-c5b0-4b82-dc78-2c70d01b6126"
      },
      "source": [
        "history = model.fit_generator(train_generator,\n",
        "                              steps_per_epoch=25,\n",
        "                              epochs=10,\n",
        "                              validation_data=validation_generator,\n",
        "                              validation_steps=38)"
      ],
      "execution_count": null,
      "outputs": [
        {
          "output_type": "stream",
          "name": "stderr",
          "text": [
            "/usr/local/lib/python3.7/dist-packages/keras/engine/training.py:1972: UserWarning: `Model.fit_generator` is deprecated and will be removed in a future version. Please use `Model.fit`, which supports generators.\n",
            "  warnings.warn('`Model.fit_generator` is deprecated and '\n"
          ]
        },
        {
          "output_type": "stream",
          "name": "stdout",
          "text": [
            "Epoch 1/10\n",
            "25/25 [==============================] - 19809s 795s/step - loss: 1.6919 - accuracy: 0.3393 - val_loss: 1.6265 - val_accuracy: 0.3319\n",
            "Epoch 2/10\n",
            "25/25 [==============================] - 417s 16s/step - loss: 1.5655 - accuracy: 0.4044 - val_loss: 1.5933 - val_accuracy: 0.3670\n",
            "Epoch 3/10\n",
            "25/25 [==============================] - 407s 16s/step - loss: 1.4951 - accuracy: 0.4477 - val_loss: 1.5807 - val_accuracy: 0.3961\n",
            "Epoch 4/10\n",
            "25/25 [==============================] - 403s 16s/step - loss: 1.4443 - accuracy: 0.4757 - val_loss: 1.5655 - val_accuracy: 0.4051\n",
            "Epoch 5/10\n",
            "25/25 [==============================] - 401s 16s/step - loss: 1.4096 - accuracy: 0.4931 - val_loss: 1.5634 - val_accuracy: 0.4136\n",
            "Epoch 6/10\n",
            "25/25 [==============================] - 405s 16s/step - loss: 1.3831 - accuracy: 0.5036 - val_loss: 1.5540 - val_accuracy: 0.4144\n",
            "Epoch 7/10\n",
            "25/25 [==============================] - 416s 16s/step - loss: 1.3621 - accuracy: 0.5117 - val_loss: 1.5473 - val_accuracy: 0.4158\n",
            "Epoch 8/10\n",
            "25/25 [==============================] - 452s 18s/step - loss: 1.3498 - accuracy: 0.5148 - val_loss: 1.5447 - val_accuracy: 0.4201\n",
            "Epoch 9/10\n",
            "25/25 [==============================] - 407s 16s/step - loss: 1.3313 - accuracy: 0.5230 - val_loss: 1.5555 - val_accuracy: 0.4190\n",
            "Epoch 10/10\n",
            "25/25 [==============================] - 454s 18s/step - loss: 1.3163 - accuracy: 0.5300 - val_loss: 1.5446 - val_accuracy: 0.4230\n"
          ]
        }
      ]
    },
    {
      "cell_type": "markdown",
      "metadata": {
        "id": "Ea24ZPMp5wmP"
      },
      "source": [
        "重みを保存　再利用するときに便利\n"
      ]
    },
    {
      "cell_type": "code",
      "metadata": {
        "id": "1EzfDOzAj4b1"
      },
      "source": [
        "model.save('/content/drive/MyDrive/data分析/Face Experience/faceweight2.h5')"
      ],
      "execution_count": null,
      "outputs": []
    },
    {
      "cell_type": "code",
      "metadata": {
        "id": "2y3JH9BJj-mq",
        "colab": {
          "base_uri": "https://localhost:8080/",
          "height": 281
        },
        "outputId": "c90e71da-8b96-4739-ac71-5cdb0cb94b77"
      },
      "source": [
        "acc = history.history['accuracy']\n",
        "val_acc = history.history['val_accuracy']\n",
        "loss = history.history['loss']\n",
        "val_loss = history.history['val_loss']\n",
        "\n",
        "epochs = range(1, len(acc) + 1)\n",
        "\n",
        "plt.plot(epochs, acc, 'bo', label='Training acc')\n",
        "plt.plot(epochs, val_acc, 'b', label='Validation acc')\n",
        "plt.title('Training and Validation accuracy')\n",
        "plt.legend()\n",
        "plt.savefig('/content/drive/MyDrive/data分析/Face Experience/accuracy2.png')\n",
        "plt.show()\n",
        "plt.close()"
      ],
      "execution_count": null,
      "outputs": [
        {
          "output_type": "display_data",
          "data": {
            "image/png": "[encoded data removed]",
            "text/plain": [
              "<Figure size 432x288 with 1 Axes>"
            ]
          },
          "metadata": {
            "needs_background": "light"
          }
        }
      ]
    },
    {
      "cell_type": "code",
      "metadata": {
        "id": "pv437yggkzuD",
        "colab": {
          "base_uri": "https://localhost:8080/",
          "height": 281
        },
        "outputId": "b3251b62-9953-4e0a-b012-c0cc3d9896c9"
      },
      "source": [
        "plt.plot(epochs, loss, 'bo', label='Training loss')\n",
        "plt.plot(epochs, val_loss, 'b', label='Validation loss')\n",
        "plt.title('Training and Validation loss')\n",
        "plt.legend()\n",
        "plt.savefig('/content/drive/MyDrive/data分析/Face Experience/loss2.png')\n",
        "plt.show()\n",
        "plt.close()"
      ],
      "execution_count": null,
      "outputs": [
        {
          "output_type": "display_data",
          "data": {
            "image/png": "[encoded data removed]",
            "text/plain": [
              "<Figure size 432x288 with 1 Axes>"
            ]
          },
          "metadata": {
            "needs_background": "light"
          }
        }
      ]
    },
    {
      "cell_type": "code",
      "metadata": {
        "id": "LZsDvNq8Rm6K"
      },
      "source": [
        "hist_df = pd.DataFrame(history.history)\n",
        "hist_df.to_csv('/content/drive/MyDrive/data分析/Face Experience/history2.csv')"
      ],
      "execution_count": null,
      "outputs": []
    },
    {
      "cell_type": "code",
      "metadata": {
        "id": "Km4NMMlGSGQL",
        "colab": {
          "base_uri": "https://localhost:8080/",
          "height": 359
        },
        "outputId": "13bd62d6-3f44-4554-ec2e-51058f7f32e4"
      },
      "source": [
        "hist_df"
      ],
      "execution_count": null,
      "outputs": [
        {
          "output_type": "execute_result",
          "data": {
            "text/html": [
              "<div>\n",
              "<style scoped>\n",
              "    .dataframe tbody tr th:only-of-type {\n",
              "        vertical-align: middle;\n",
              "    }\n",
              "\n",
              "    .dataframe tbody tr th {\n",
              "        vertical-align: top;\n",
              "    }\n",
              "\n",
              "    .dataframe thead th {\n",
              "        text-align: right;\n",
              "    }\n",
              "</style>\n",
              "<table border=\"1\" class=\"dataframe\">\n",
              "  <thead>\n",
              "    <tr style=\"text-align: right;\">\n",
              "      <th></th>\n",
              "      <th>loss</th>\n",
              "      <th>accuracy</th>\n",
              "      <th>val_loss</th>\n",
              "      <th>val_accuracy</th>\n",
              "    </tr>\n",
              "  </thead>\n",
              "  <tbody>\n",
              "    <tr>\n",
              "      <th>0</th>\n",
              "      <td>1.691933</td>\n",
              "      <td>0.339263</td>\n",
              "      <td>1.626502</td>\n",
              "      <td>0.331913</td>\n",
              "    </tr>\n",
              "    <tr>\n",
              "      <th>1</th>\n",
              "      <td>1.565549</td>\n",
              "      <td>0.404410</td>\n",
              "      <td>1.593316</td>\n",
              "      <td>0.366981</td>\n",
              "    </tr>\n",
              "    <tr>\n",
              "      <th>2</th>\n",
              "      <td>1.495052</td>\n",
              "      <td>0.447690</td>\n",
              "      <td>1.580693</td>\n",
              "      <td>0.396061</td>\n",
              "    </tr>\n",
              "    <tr>\n",
              "      <th>3</th>\n",
              "      <td>1.444310</td>\n",
              "      <td>0.475730</td>\n",
              "      <td>1.565472</td>\n",
              "      <td>0.405102</td>\n",
              "    </tr>\n",
              "    <tr>\n",
              "      <th>4</th>\n",
              "      <td>1.409635</td>\n",
              "      <td>0.493143</td>\n",
              "      <td>1.563449</td>\n",
              "      <td>0.413624</td>\n",
              "    </tr>\n",
              "    <tr>\n",
              "      <th>5</th>\n",
              "      <td>1.383128</td>\n",
              "      <td>0.503630</td>\n",
              "      <td>1.554032</td>\n",
              "      <td>0.414430</td>\n",
              "    </tr>\n",
              "    <tr>\n",
              "      <th>6</th>\n",
              "      <td>1.362077</td>\n",
              "      <td>0.511654</td>\n",
              "      <td>1.547275</td>\n",
              "      <td>0.415812</td>\n",
              "    </tr>\n",
              "    <tr>\n",
              "      <th>7</th>\n",
              "      <td>1.349820</td>\n",
              "      <td>0.514794</td>\n",
              "      <td>1.544676</td>\n",
              "      <td>0.420074</td>\n",
              "    </tr>\n",
              "    <tr>\n",
              "      <th>8</th>\n",
              "      <td>1.331287</td>\n",
              "      <td>0.523033</td>\n",
              "      <td>1.555537</td>\n",
              "      <td>0.418980</td>\n",
              "    </tr>\n",
              "    <tr>\n",
              "      <th>9</th>\n",
              "      <td>1.316314</td>\n",
              "      <td>0.530035</td>\n",
              "      <td>1.544580</td>\n",
              "      <td>0.422953</td>\n",
              "    </tr>\n",
              "  </tbody>\n",
              "</table>\n",
              "</div>"
            ],
            "text/plain": [
              "       loss  accuracy  val_loss  val_accuracy\n",
              "0  1.691933  0.339263  1.626502      0.331913\n",
              "1  1.565549  0.404410  1.593316      0.366981\n",
              "2  1.495052  0.447690  1.580693      0.396061\n",
              "3  1.444310  0.475730  1.565472      0.405102\n",
              "4  1.409635  0.493143  1.563449      0.413624\n",
              "5  1.383128  0.503630  1.554032      0.414430\n",
              "6  1.362077  0.511654  1.547275      0.415812\n",
              "7  1.349820  0.514794  1.544676      0.420074\n",
              "8  1.331287  0.523033  1.555537      0.418980\n",
              "9  1.316314  0.530035  1.544580      0.422953"
            ]
          },
          "metadata": {},
          "execution_count": 15
        }
      ]
    }
  ]
}