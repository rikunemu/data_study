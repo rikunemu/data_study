{
  "nbformat": 4,
  "nbformat_minor": 0,
  "metadata": {
    "colab": {
      "name": "Emotions model.ipynb",
      "provenance": [],
      "collapsed_sections": []
    },
    "kernelspec": {
      "display_name": "Python 3",
      "name": "python3"
    },
    "language_info": {
      "name": "python"
    },
    "accelerator": "TPU"
  },
  "cells": [
    {
      "cell_type": "markdown",
      "metadata": {
        "id": "UYwdqBvyfX6X"
      },
      "source": [
        "#感情データのモデル作成及びテスト\n",
        "\n",
        "\n"
      ]
    },
    {
      "cell_type": "code",
      "metadata": {
        "id": "q81SB1cPBTJZ",
        "colab": {
          "base_uri": "https://localhost:8080/"
        },
        "outputId": "d0e7252d-d8a7-4a2f-b455-63f65e91954c"
      },
      "source": [
        "import os\n",
        "import pandas as pd\n",
        "import numpy as np\n",
        "import matplotlib.pyplot as plt\n",
        "from keras import layers\n",
        "from keras import models\n",
        "from keras import optimizers\n",
        "from keras.preprocessing.image import ImageDataGenerator\n",
        "from google.colab import drive \n",
        "drive.mount('/content/drive')"
      ],
      "execution_count": null,
      "outputs": [
        {
          "output_type": "stream",
          "name": "stdout",
          "text": [
            "Mounted at /content/drive\n"
          ]
        }
      ]
    },
    {
      "cell_type": "code",
      "metadata": {
        "id": "fGo2CxbVHGuX"
      },
      "source": [
        "base_dir = '/content/drive/MyDrive/data分析/Face Experience/'\n",
        "train_dir = os.path.join(base_dir, 'train')\n",
        "valid_dir = os.path.join(base_dir, 'valid')\n",
        "test_dir = os.path.join(base_dir, 'test')"
      ],
      "execution_count": null,
      "outputs": []
    },
    {
      "cell_type": "code",
      "metadata": {
        "id": "gQJioAgkdDhC"
      },
      "source": [
        "train_angry_dir = os.path.join(train_dir, 'angry')\n",
        "train_disgust_dir = os.path.join(train_dir, 'disgust')\n",
        "train_fear_dir = os.path.join(train_dir, 'fear')\n",
        "train_happy_dir = os.path.join(train_dir, 'happy')\n",
        "train_neutral_dir = os.path.join(train_dir, 'neutral')\n",
        "train_sad_dir = os.path.join(train_dir, 'sad')\n",
        "train_suprise_dir = os.path.join(train_dir, 'suprise')\n",
        "\n",
        "valid_angry_dir = os.path.join(valid_dir, 'angry')\n",
        "valid_disgust_dir = os.path.join(valid_dir, 'disgust')\n",
        "valid_fear_dir = os.path.join(valid_dir, 'fear')\n",
        "valid_happy_dir = os.path.join(valid_dir, 'happy')\n",
        "valid_neutral_dir = os.path.join(valid_dir, 'neutral')\n",
        "valid_sad_dir = os.path.join(valid_dir, 'sad')\n",
        "vaild_suprise_dir = os.path.join(valid_dir, 'suprise')\n",
        "\n",
        "test_angry_dir = os.path.join(test_dir, 'angry')\n",
        "test_disgust_dir = os.path.join(test_dir, 'disgust')\n",
        "test_fear_dir = os.path.join(test_dir, 'fear')\n",
        "test_happy_dir = os.path.join(test_dir, 'happy')\n",
        "test_neutral_dir = os.path.join(test_dir, 'neutral')\n",
        "test_sad_dir = os.path.join(test_dir, 'sad')\n",
        "test_suprise_dir = os.path.join(test_dir, 'suprise')\n"
      ],
      "execution_count": null,
      "outputs": []
    },
    {
      "cell_type": "markdown",
      "metadata": {
        "id": "toXucimtfzfU"
      },
      "source": [
        "##binaryとcategoricalの違い\n",
        "binaryは0か1かを判定するので2値判定するのに適している  \n",
        "categoricalは多クラス分類するのに適している  \n",
        "今回は2つの値を入手する必要があったためcategoricalを使用"
      ]
    },
    {
      "cell_type": "markdown",
      "metadata": {
        "id": "4xwBlcwlib63"
      },
      "source": [
        "##batch_size\n",
        "ミニバッチ学習に使われるバッチのサイズ  \n",
        "データの枚数で割り切れるように調整する必要がある  \n",
        "データの数=batch_size*epochs"
      ]
    },
    {
      "cell_type": "markdown",
      "metadata": {
        "id": "HY6g06rGkc5r"
      },
      "source": [
        "##その他\n",
        "rescaleは正規化のための仕組みでRGB(0~255)で読み込まれた各画素のRGB値を0から1に収まるように正規化\n",
        "  \n",
        "target_sizeでサイズ調整"
      ]
    },
    {
      "cell_type": "code",
      "metadata": {
        "id": "3UrRMGa5dFDS",
        "colab": {
          "base_uri": "https://localhost:8080/"
        },
        "outputId": "2cd661b6-d0fc-4cac-9cbc-39ff93e9f3c6"
      },
      "source": [
        "train_datagen = ImageDataGenerator(rescale = 1./255)\n",
        "test_datagen = ImageDataGenerator(rescale = 1./255)\n",
        "\n",
        "train_generator = train_datagen.flow_from_directory(\n",
        "    train_dir,\n",
        "    target_size = (150, 150),\n",
        "    batch_size = 100,\n",
        "    class_mode = 'categorical'\n",
        ")\n",
        "\n",
        "validation_generator = test_datagen.flow_from_directory(\n",
        "    valid_dir,\n",
        "    target_size = (150, 150),\n",
        "    batch_size = 38,\n",
        "    class_mode = 'categorical'\n",
        ")"
      ],
      "execution_count": null,
      "outputs": [
        {
          "output_type": "stream",
          "name": "stdout",
          "text": [
            "Found 64376 images belonging to 7 classes.\n",
            "Found 17366 images belonging to 7 classes.\n"
          ]
        }
      ]
    },
    {
      "cell_type": "code",
      "metadata": {
        "id": "rvaeM_a6g20u",
        "colab": {
          "base_uri": "https://localhost:8080/"
        },
        "outputId": "124ee164-9de2-4e64-c3d8-daace90b80a4"
      },
      "source": [
        "for data_batch, labels_batch in train_generator:\n",
        "  print('data batch shape:', data_batch.shape)\n",
        "  print('labels batch shape:', labels_batch.shape)\n",
        "  break"
      ],
      "execution_count": null,
      "outputs": [
        {
          "output_type": "stream",
          "name": "stdout",
          "text": [
            "data batch shape: (100, 150, 150, 3)\n",
            "labels batch shape: (100, 7)\n"
          ]
        }
      ]
    },
    {
      "cell_type": "markdown",
      "metadata": {
        "id": "oOXXdwZKxcp2"
      },
      "source": [
        "##モデル作成\n",
        "出力層はsigmoidとsoftmax  \n",
        "softmaxを使うとどの特徴にも当てはまらないものも高い数字が出る可能性がある  \n",
        "imput_shape:横,縦,チャンネル数(今回はRGBなので3)  \n",
        "層を深くしすぎると表現力を失い一直線になる  \n",
        "Conv2D(16,(3,3)): 3*3の大きさのフィルタを16種類使用  \n",
        "activation='relu': Relu関数　0より大きい場合はそのまま、0未満は0\n"
      ]
    },
    {
      "cell_type": "code",
      "metadata": {
        "id": "H0Eukumz4Fxu"
      },
      "source": [
        "model = models.Sequential()\n",
        "model.add(layers.Conv2D(16, (3, 3), activation='relu', input_shape=(150, 150, 3)))\n",
        "model.add(layers.Conv2D(16, (3, 3), activation='relu'))\n",
        "model.add(layers.MaxPooling2D((2, 2)))\n",
        "model.add(layers.Conv2D(32, (3, 3), activation='relu'))\n",
        "model.add(layers.MaxPooling2D((2, 2)))\n",
        "model.add(layers.Flatten())\n",
        "model.add(layers.Dense(512, activation='relu'))\n",
        "model.add(layers.Dense(256, activation='relu'))\n",
        "model.add(layers.Dense(7, activation='sigmoid')) "
      ],
      "execution_count": null,
      "outputs": []
    },
    {
      "cell_type": "code",
      "metadata": {
        "id": "FdzSXA7lijLs",
        "colab": {
          "base_uri": "https://localhost:8080/"
        },
        "outputId": "5e426066-5b0a-433e-be7e-ffb26efdf435"
      },
      "source": [
        "model.summary()"
      ],
      "execution_count": null,
      "outputs": [
        {
          "output_type": "stream",
          "name": "stdout",
          "text": [
            "Model: \"sequential\"\n",
            "_________________________________________________________________\n",
            "Layer (type)                 Output Shape              Param #   \n",
            "=================================================================\n",
            "conv2d (Conv2D)              (None, 148, 148, 16)      448       \n",
            "_________________________________________________________________\n",
            "conv2d_1 (Conv2D)            (None, 146, 146, 16)      2320      \n",
            "_________________________________________________________________\n",
            "max_pooling2d (MaxPooling2D) (None, 73, 73, 16)        0         \n",
            "_________________________________________________________________\n",
            "conv2d_2 (Conv2D)            (None, 71, 71, 32)        4640      \n",
            "_________________________________________________________________\n",
            "max_pooling2d_1 (MaxPooling2 (None, 35, 35, 32)        0         \n",
            "_________________________________________________________________\n",
            "flatten (Flatten)            (None, 39200)             0         \n",
            "_________________________________________________________________\n",
            "dense (Dense)                (None, 512)               20070912  \n",
            "_________________________________________________________________\n",
            "dense_1 (Dense)              (None, 256)               131328    \n",
            "_________________________________________________________________\n",
            "dense_2 (Dense)              (None, 7)                 1799      \n",
            "=================================================================\n",
            "Total params: 20,211,447\n",
            "Trainable params: 20,211,447\n",
            "Non-trainable params: 0\n",
            "_________________________________________________________________\n"
          ]
        }
      ]
    },
    {
      "cell_type": "markdown",
      "metadata": {
        "id": "xu1Rv5t0eKnl"
      },
      "source": [
        "##Adam\n",
        "MomentumとAdaGradを融合したような手法"
      ]
    },
    {
      "cell_type": "code",
      "metadata": {
        "id": "LYW1tIWwlXQG"
      },
      "source": [
        "from tensorflow.keras.optimizers import Adam\n",
        "adam = Adam(learning_rate=1e-4)\n",
        "model.compile(optimizer=adam,\n",
        "              loss='categorical_crossentropy',\n",
        "              metrics=['accuracy'])"
      ],
      "execution_count": null,
      "outputs": []
    },
    {
      "cell_type": "markdown",
      "metadata": {
        "id": "UPdwBuMr54lO"
      },
      "source": [
        "モデルを保存　再利用するときに便利"
      ]
    },
    {
      "cell_type": "code",
      "metadata": {
        "id": "9JCLshDfXa8Q"
      },
      "source": [
        "model.save('/content/drive/MyDrive/data分析/Face Experience/facemodel.h5')"
      ],
      "execution_count": null,
      "outputs": []
    },
    {
      "cell_type": "code",
      "metadata": {
        "id": "qCebtJv8i6ai",
        "colab": {
          "base_uri": "https://localhost:8080/"
        },
        "outputId": "5642d11c-dcd0-4853-a964-54f72e1520a1"
      },
      "source": [
        "history = model.fit_generator(train_generator,\n",
        "                              steps_per_epoch=929,\n",
        "                              epochs=10,\n",
        "                              validation_data=validation_generator,\n",
        "                              validation_steps=457)"
      ],
      "execution_count": null,
      "outputs": [
        {
          "output_type": "stream",
          "name": "stderr",
          "text": [
            "/usr/local/lib/python3.7/dist-packages/keras/engine/training.py:1972: UserWarning: `Model.fit_generator` is deprecated and will be removed in a future version. Please use `Model.fit`, which supports generators.\n",
            "  warnings.warn('`Model.fit_generator` is deprecated and '\n"
          ]
        },
        {
          "output_type": "stream",
          "name": "stdout",
          "text": [
            "Epoch 1/10\n",
            "140/929 [===>..........................] - ETA: 5:06:21 - loss: 1.4881 - accuracy: 0.4561"
          ]
        }
      ]
    },
    {
      "cell_type": "markdown",
      "metadata": {
        "id": "Ea24ZPMp5wmP"
      },
      "source": [
        "重みを保存　再利用するときに便利\n"
      ]
    },
    {
      "cell_type": "code",
      "metadata": {
        "id": "1EzfDOzAj4b1"
      },
      "source": [
        "model.save('/content/drive/MyDrive/data分析/Face Experience/faceweight.h5')"
      ],
      "execution_count": null,
      "outputs": []
    },
    {
      "cell_type": "code",
      "metadata": {
        "id": "2y3JH9BJj-mq"
      },
      "source": [
        "acc = history.history['accuracy']\n",
        "val_acc = history.history['val_accuracy']\n",
        "loss = history.history['loss']\n",
        "val_loss = history.history['val_loss']\n",
        "\n",
        "epochs = range(1, len(acc) + 1)\n",
        "\n",
        "plt.plot(epochs, acc, 'bo', label='Training acc')\n",
        "plt.plot(epochs, val_acc, 'b', label='Validation acc')\n",
        "plt.title('Training and Validation accuracy')\n",
        "plt.legend()\n",
        "plt.savefig('/content/drive/MyDrive/data分析/Face Experience/accuracy.png')\n",
        "plt.show()\n",
        "plt.close()"
      ],
      "execution_count": null,
      "outputs": []
    },
    {
      "cell_type": "code",
      "metadata": {
        "id": "pv437yggkzuD"
      },
      "source": [
        "plt.plot(epochs, loss, 'bo', label='Training loss')\n",
        "plt.plot(epochs, val_loss, 'b', label='Validation loss')\n",
        "plt.title('Training and Validation loss')\n",
        "plt.legend()\n",
        "plt.savefig('/content/drive/MyDrive/data分析/Face Experience/loss.png')\n",
        "plt.show()\n",
        "plt.close()"
      ],
      "execution_count": null,
      "outputs": []
    },
    {
      "cell_type": "code",
      "metadata": {
        "id": "LZsDvNq8Rm6K"
      },
      "source": [
        "hist_df = pd.DataFrame(history.history)\n",
        "hist_df.to_csv('/content/drive/MyDrive/data分析/Face Experience/history.csv')"
      ],
      "execution_count": null,
      "outputs": []
    },
    {
      "cell_type": "code",
      "metadata": {
        "id": "Km4NMMlGSGQL"
      },
      "source": [
        "hist_df"
      ],
      "execution_count": null,
      "outputs": []
    },
    {
      "cell_type": "code",
      "metadata": {
        "id": "0TwHPOFuVmpm"
      },
      "source": [
        "# モデルと重みの読み込み\n",
        "#model.load_weights('/content/drive/MyDrive/data分析/Face Mask Dataset/mask.h5')"
      ],
      "execution_count": null,
      "outputs": []
    },
    {
      "cell_type": "code",
      "metadata": {
        "id": "FY0IrMA5Xm31"
      },
      "source": [
        "\"\"\"\n",
        "test_generater = test_datagen.flow_from_directory(\n",
        "    test_dir,\n",
        "    target_size =  (150, 150),\n",
        "    batch_size = 32,\n",
        "    class_mode = 'categorical'\n",
        ")\n",
        "\"\"\""
      ],
      "execution_count": null,
      "outputs": []
    },
    {
      "cell_type": "code",
      "metadata": {
        "id": "ibnHW_fjXrFc"
      },
      "source": [
        "#test_loss, test_acc = model.evaluate_generator(test_generater, steps=31)\n",
        "#print('test acc:', test_acc)\n",
        "#print('test loss', test_loss)"
      ],
      "execution_count": null,
      "outputs": []
    },
    {
      "cell_type": "code",
      "metadata": {
        "id": "Nx3ChRuoHvtr"
      },
      "source": [
        "\"\"\"\n",
        "import tensorflow as tf\n",
        "desu='/content/drive/MyDrive/data分析/Face Mask Dataset'\n",
        "modeldesu = tf.keras.models.load_model(desu+'/model.h5')\n",
        "\n",
        "modeldesu.load_weights(desu+'/mask.h5')"
      ],
      "execution_count": null,
      "outputs": []
    },
    {
      "cell_type": "code",
      "metadata": {
        "id": "0lCzy2MFIFRR"
      },
      "source": [
        "\"\"\"\n",
        "import tensorflow as tf\n",
        "from PIL import Image, ImageOps\n",
        "filename = test_withoutmask_dir + ('/46.png')\n",
        "img = Image.open(filename)\n",
        "\n",
        "#img = np.array(img).flatten() / 255\n",
        "#img = Image.fromarray(img)\n",
        "img = img.resize((150, 150))\n",
        "img = np.expand_dims(img,0)\n",
        "img = img / 255.0\n",
        "img_array = np.expand_dims(np.array(img).flatten() / 255,0)"
      ],
      "execution_count": null,
      "outputs": []
    },
    {
      "cell_type": "code",
      "metadata": {
        "id": "yaSddaFWIig5"
      },
      "source": [
        "\"\"\"\n",
        "img_array = np.array(img)\n",
        "# 推論\n",
        "result=modeldesu.predict(img_array)\n",
        "#result=tf.nn.sigmoid(modeldesu.predict(img_array[None,...]))\n",
        "1 - np.float(result[0][0])  # 1に近いほどマスク"
      ],
      "execution_count": null,
      "outputs": []
    }
  ]
}